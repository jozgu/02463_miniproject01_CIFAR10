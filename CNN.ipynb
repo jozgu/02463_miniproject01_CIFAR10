{
 "cells": [
  {
   "cell_type": "code",
   "execution_count": 77,
   "metadata": {},
   "outputs": [],
   "source": [
    "import torch\n",
    "import torchvision\n",
    "import torchvision.transforms as transforms\n",
    "import matplotlib.pyplot as plt\n",
    "import numpy as np\n",
    "import torch.nn as nn\n",
    "import torch.nn.functional as F\n",
    "import torch.optim as optim\n",
    "from sklearn.model_selection import ParameterSampler, RandomizedSearchCV, cross_val_score\n",
    "import plotly.express as px\n",
    "import pandas as pd"
   ]
  },
  {
   "attachments": {},
   "cell_type": "markdown",
   "metadata": {},
   "source": [
    "# Load data and transform"
   ]
  },
  {
   "cell_type": "code",
   "execution_count": 31,
   "metadata": {},
   "outputs": [
    {
     "name": "stdout",
     "output_type": "stream",
     "text": [
      "Files already downloaded and verified\n",
      "Files already downloaded and verified\n"
     ]
    }
   ],
   "source": [
    "transform = transforms.Compose(\n",
    "    [transforms.ToTensor(),\n",
    "     transforms.Normalize((0.5, 0.5, 0.5), (0.5, 0.5, 0.5))])\n",
    "\n",
    "batch_size = 32\n",
    "\n",
    "trainset = torchvision.datasets.CIFAR10(root='./data', train=True,\n",
    "                                        download=True, transform=transform)\n",
    "trainloader = torch.utils.data.DataLoader(trainset, batch_size=batch_size,\n",
    "                                          shuffle=True, num_workers=2)\n",
    "\n",
    "testset = torchvision.datasets.CIFAR10(root='./data', train=False,\n",
    "                                       download=True, transform=transform)\n",
    "testloader = torch.utils.data.DataLoader(testset, batch_size=batch_size,\n",
    "                                         shuffle=False, num_workers=2)\n",
    "\n",
    "\n",
    "# Uncomment to take a subset of the data\n",
    "train_subset = torch.utils.data.Subset(trainset, range(0, len(trainset), 10))\n",
    "test_subset = torch.utils.data.Subset(testset, range(0, len(testset), 10))\n",
    "\n",
    "trainloader = torch.utils.data.DataLoader(train_subset, batch_size=batch_size,\n",
    "                                          shuffle=True, num_workers=2)\n",
    "testloader = torch.utils.data.DataLoader(test_subset, batch_size=batch_size,\n",
    "                                         shuffle=False, num_workers=2)\n",
    "\n",
    "\n",
    "classes = ('plane', 'car', 'bird', 'cat',\n",
    "           'deer', 'dog', 'frog', 'horse', 'ship', 'truck')"
   ]
  },
  {
   "cell_type": "code",
   "execution_count": null,
   "metadata": {},
   "outputs": [],
   "source": [
    "\n"
   ]
  },
  {
   "cell_type": "code",
   "execution_count": 32,
   "metadata": {},
   "outputs": [],
   "source": [
    "def imshow(img):\n",
    "    img = img / 2 + 0.5     # unnormalize\n",
    "    npimg = img.numpy()\n",
    "    plt.imshow(np.transpose(npimg, (1, 2, 0)))\n",
    "    plt.show()\n"
   ]
  },
  {
   "cell_type": "code",
   "execution_count": 33,
   "metadata": {},
   "outputs": [],
   "source": [
    "dataiter = iter(trainloader)\n",
    "images, labels = next(dataiter)\n",
    "\n",
    "# show images\n",
    "# imshow(torchvision.utils.make_grid(images))"
   ]
  },
  {
   "attachments": {},
   "cell_type": "markdown",
   "metadata": {},
   "source": [
    "# Define Convolutional Model"
   ]
  },
  {
   "cell_type": "code",
   "execution_count": 34,
   "metadata": {},
   "outputs": [],
   "source": [
    "import torch.nn as nn\n",
    "import torch.nn.functional as F\n",
    "\n",
    "\n",
    "class Net(nn.Module):\n",
    "    def __init__(self, n=120):\n",
    "        super().__init__()\n",
    "        self.conv1 = nn.Conv2d(3, 6, 5) # Goes from 32x32 to 28x28\n",
    "        self.pool = nn.MaxPool2d(2, 2) # halfes the size\n",
    "        self.conv2 = nn.Conv2d(6, 16, 5)\n",
    "        self.fc1 = nn.Linear(16 * 5 * 5, n)\n",
    "        self.fc2 = nn.Linear(n, n//2)\n",
    "        self.fc3 = nn.Linear(n//2, 10)\n",
    "\n",
    "    def forward(self, x):\n",
    "        x = self.pool(F.relu(self.conv1(x))) # 32x32 -> 28x28 -> 14x14\n",
    "        x = self.pool(F.relu(self.conv2(x))) # 14x14 -> 10x10 -> 5x5\n",
    "        x = torch.flatten(x, 1) # flatten all dimensions except batch\n",
    "        x = F.relu(self.fc1(x))\n",
    "        x = F.relu(self.fc2(x))\n",
    "        x = self.fc3(x)\n",
    "        return x\n",
    "\n",
    "net = Net()\n",
    "    \n"
   ]
  },
  {
   "cell_type": "code",
   "execution_count": 35,
   "metadata": {},
   "outputs": [
    {
     "data": {
      "text/plain": [
       "torch.Size([32, 10])"
      ]
     },
     "execution_count": 35,
     "metadata": {},
     "output_type": "execute_result"
    }
   ],
   "source": [
    "out = net(images)\n",
    "out.shape\n"
   ]
  },
  {
   "cell_type": "code",
   "execution_count": 36,
   "metadata": {},
   "outputs": [],
   "source": [
    "criterion = nn.CrossEntropyLoss()\n",
    "optimizer = optim.SGD(net.parameters(), lr=0.001, momentum=0.9)"
   ]
  },
  {
   "attachments": {},
   "cell_type": "markdown",
   "metadata": {},
   "source": [
    "# Training loop"
   ]
  },
  {
   "cell_type": "code",
   "execution_count": 37,
   "metadata": {},
   "outputs": [
    {
     "name": "stdout",
     "output_type": "stream",
     "text": [
      "[1,     0] loss: 0.008\n",
      "Finished Training\n"
     ]
    }
   ],
   "source": [
    "def train_net(net, trainloader, criterion, optimizer, num_epochs=10):\n",
    "    for epoch in range(num_epochs):  # loop over the dataset multiple times\n",
    "\n",
    "        running_loss = 0.0\n",
    "        for i, data in enumerate(trainloader, 0):\n",
    "            # get the inputs; data is a list of [inputs, labels]\n",
    "            inputs, labels = data\n",
    "\n",
    "            # zero the parameter gradients\n",
    "            optimizer.zero_grad()\n",
    "\n",
    "            # forward + backward + optimize\n",
    "            outputs = net(inputs)\n",
    "            loss = criterion(outputs, labels)\n",
    "            loss.backward()\n",
    "            optimizer.step()\n",
    "\n",
    "            # print statistics\n",
    "            running_loss += loss.item()\n",
    "            if i % 300 == 0:    # print every 2000 mini-batches\n",
    "                print(f'[{epoch+1}, {i:5d}] loss: {running_loss / 300:.3f}')\n",
    "                running_loss = 0.0\n",
    "\n",
    "    print('Finished Training')\n",
    "\n",
    "train_net(net, trainloader, criterion, optimizer, num_epochs=1)\n"
   ]
  },
  {
   "cell_type": "code",
   "execution_count": 38,
   "metadata": {},
   "outputs": [],
   "source": [
    "# Save model\n",
    "# PATH = './cifar_net.pth'\n",
    "# torch.save(net.state_dict(), PATH)"
   ]
  },
  {
   "attachments": {},
   "cell_type": "markdown",
   "metadata": {},
   "source": [
    "# Test Loop"
   ]
  },
  {
   "cell_type": "code",
   "execution_count": 39,
   "metadata": {},
   "outputs": [],
   "source": [
    "def test_net(net, testloader):\n",
    "    correct = 0\n",
    "    total = 0\n",
    "    with torch.no_grad():\n",
    "        for data in testloader:\n",
    "            images, labels = data\n",
    "            outputs = net(images)\n",
    "            _, predicted = torch.max(outputs.data, 1)\n",
    "            total += labels.size(0)\n",
    "            correct += (predicted == labels).sum().item()\n",
    "    accuracy = 100 * correct / total\n",
    "    print(f'Accuracy of the network on the 10000 test images: {accuracy:.1f} %')\n",
    "    return accuracy\n",
    "\n",
    "# correct = 0\n",
    "# total = 0\n",
    "# # since we're not training, we don't need to calculate the gradients for our outputs\n",
    "# with torch.no_grad():\n",
    "#     # for data in trainloader: # Test on the training set\n",
    "#     for data in testloader: # Test on the test set (This is what we want to do)\n",
    "#         images, labels = data\n",
    "#         # calculate outputs by running images through the network\n",
    "#         outputs = net(images)\n",
    "#         # the class with the highest energy is what we choose as prediction\n",
    "#         _, predicted = torch.max(outputs.data, 1)\n",
    "#         total += labels.size(0)\n",
    "#         correct += (predicted == labels).sum().item()\n",
    "\n",
    "# print(f'Accuracy of the network on the 10000 test images: {100 * correct // total} %')\n",
    "\n",
    "# test_net(net, testloader)"
   ]
  },
  {
   "attachments": {},
   "cell_type": "markdown",
   "metadata": {},
   "source": [
    "# Define domain of parameters to be optimized"
   ]
  },
  {
   "cell_type": "code",
   "execution_count": 40,
   "metadata": {},
   "outputs": [],
   "source": [
    "# ## define the domain of the considered parameters\n",
    "# n_estimators = tuple(np.arange(1,101,1, dtype=int))\n",
    "# # print(n_estimators)\n",
    "# max_depth = tuple(np.arange(10,110,10, dtype=int))\n",
    "# # max_features = ('log2', 'sqrt', None)\n",
    "# max_features = (0, 1)\n",
    "# # criterion = ('gini', 'entropy')\n",
    "# criterion = (0, 1)\n",
    "\n",
    "\n",
    "# define the dictionary for GPyOpt\n",
    "domain_random_sample = {\n",
    "        # \"n_epochs\": range(1, 11,2), \n",
    "        # \"n_epochs\": range(10, 1,10), \n",
    "        \"n_units\": (64, 128, 256, 512),\n",
    "        \"lr\": (1e-3, 1e-4, 1e-5, 1e-6),\n",
    "        }\n",
    "\n",
    "# domain = [{'name': 'n', 'type': 'discrete', 'domain':(64, 128, 256, 512)},\n",
    "#           {'name': 'max_depth', 'type': 'discrete', 'domain': max_depth},\n",
    "#           {'name': 'max_features', 'type': 'categorical', 'domain': max_features},\n",
    "#           {'name': 'criterion', 'type': 'categorical', 'domain': criterion}]"
   ]
  },
  {
   "cell_type": "code",
   "execution_count": 41,
   "metadata": {},
   "outputs": [
    {
     "data": {
      "text/plain": [
       "[{'n_units': 64, 'lr': 0.001},\n",
       " {'n_units': 64, 'lr': 1e-06},\n",
       " {'n_units': 128, 'lr': 1e-05},\n",
       " {'n_units': 256, 'lr': 1e-06},\n",
       " {'n_units': 64, 'lr': 0.0001},\n",
       " {'n_units': 128, 'lr': 0.001},\n",
       " {'n_units': 256, 'lr': 0.001},\n",
       " {'n_units': 128, 'lr': 1e-06},\n",
       " {'n_units': 256, 'lr': 1e-05},\n",
       " {'n_units': 512, 'lr': 1e-06}]"
      ]
     },
     "execution_count": 41,
     "metadata": {},
     "output_type": "execute_result"
    }
   ],
   "source": [
    "param_list = list(ParameterSampler(domain_random_sample, n_iter=10, random_state=32))\n",
    "param_list\n"
   ]
  },
  {
   "cell_type": "code",
   "execution_count": 42,
   "metadata": {},
   "outputs": [],
   "source": [
    "\n",
    "def objective_function(params:dict):\n",
    "    \n",
    "    n_units = params[\"n_units\"]\n",
    "    lr = params[\"lr\"]\n",
    "    n_epochs = params[\"n_epochs\"] if \"n_epochs\" in params else 30\n",
    "    \n",
    "    \n",
    "\n",
    "    net = Net(n_units)\n",
    "    criterion = nn.CrossEntropyLoss()\n",
    "    optimizer = optim.SGD(net.parameters(), lr=lr, momentum=0.9)\n",
    "    train_net(net, trainloader, criterion, optimizer, num_epochs=n_epochs)\n",
    "    accuracy = test_net(net, testloader)\n",
    "    return accuracy\n",
    "\n",
    "\n",
    "# acc = objective_function() # Warm up\n",
    "\n"
   ]
  },
  {
   "attachments": {},
   "cell_type": "markdown",
   "metadata": {},
   "source": [
    "# Random Search"
   ]
  },
  {
   "cell_type": "code",
   "execution_count": 43,
   "metadata": {},
   "outputs": [
    {
     "name": "stdout",
     "output_type": "stream",
     "text": [
      "[1,     0] loss: 0.008\n",
      "[2,     0] loss: 0.008\n",
      "[3,     0] loss: 0.008\n",
      "[4,     0] loss: 0.008\n",
      "[5,     0] loss: 0.008\n",
      "[6,     0] loss: 0.007\n",
      "[7,     0] loss: 0.007\n",
      "[8,     0] loss: 0.007\n",
      "[9,     0] loss: 0.007\n",
      "[10,     0] loss: 0.007\n",
      "[11,     0] loss: 0.006\n",
      "[12,     0] loss: 0.006\n",
      "[13,     0] loss: 0.006\n",
      "[14,     0] loss: 0.007\n",
      "[15,     0] loss: 0.007\n",
      "[16,     0] loss: 0.006\n",
      "[17,     0] loss: 0.007\n",
      "[18,     0] loss: 0.006\n",
      "[19,     0] loss: 0.005\n",
      "[20,     0] loss: 0.005\n",
      "[21,     0] loss: 0.005\n",
      "[22,     0] loss: 0.005\n",
      "[23,     0] loss: 0.005\n",
      "[24,     0] loss: 0.006\n",
      "[25,     0] loss: 0.005\n",
      "[26,     0] loss: 0.005\n",
      "[27,     0] loss: 0.006\n",
      "[28,     0] loss: 0.004\n",
      "[29,     0] loss: 0.005\n",
      "[30,     0] loss: 0.006\n",
      "Finished Training\n",
      "Accuracy of the network on the 10000 test images: 41.9 %\n",
      "Accuracy with params {'n_units': 64, 'lr': 0.001} was 41.90\n",
      "[1,     0] loss: 0.008\n",
      "[2,     0] loss: 0.008\n",
      "[3,     0] loss: 0.008\n",
      "[4,     0] loss: 0.008\n",
      "[5,     0] loss: 0.008\n",
      "[6,     0] loss: 0.008\n",
      "[7,     0] loss: 0.008\n",
      "[8,     0] loss: 0.008\n",
      "[9,     0] loss: 0.008\n",
      "[10,     0] loss: 0.008\n",
      "[11,     0] loss: 0.008\n",
      "[12,     0] loss: 0.008\n",
      "[13,     0] loss: 0.008\n",
      "[14,     0] loss: 0.008\n",
      "[15,     0] loss: 0.008\n",
      "[16,     0] loss: 0.008\n",
      "[17,     0] loss: 0.008\n",
      "[18,     0] loss: 0.008\n",
      "[19,     0] loss: 0.008\n",
      "[20,     0] loss: 0.008\n",
      "[21,     0] loss: 0.008\n",
      "[22,     0] loss: 0.008\n",
      "[23,     0] loss: 0.008\n",
      "[24,     0] loss: 0.008\n",
      "[25,     0] loss: 0.008\n",
      "[26,     0] loss: 0.008\n",
      "[27,     0] loss: 0.008\n",
      "[28,     0] loss: 0.008\n",
      "[29,     0] loss: 0.008\n",
      "[30,     0] loss: 0.008\n",
      "Finished Training\n",
      "Accuracy of the network on the 10000 test images: 11.5 %\n",
      "Accuracy with params {'n_units': 64, 'lr': 1e-06} was 11.50\n",
      "[1,     0] loss: 0.008\n",
      "[2,     0] loss: 0.008\n",
      "[3,     0] loss: 0.008\n",
      "[4,     0] loss: 0.008\n",
      "[5,     0] loss: 0.008\n",
      "[6,     0] loss: 0.008\n",
      "[7,     0] loss: 0.008\n",
      "[8,     0] loss: 0.008\n",
      "[9,     0] loss: 0.008\n",
      "[10,     0] loss: 0.008\n",
      "[11,     0] loss: 0.008\n",
      "[12,     0] loss: 0.008\n",
      "[13,     0] loss: 0.008\n",
      "[14,     0] loss: 0.008\n",
      "[15,     0] loss: 0.008\n",
      "[16,     0] loss: 0.008\n",
      "[17,     0] loss: 0.008\n",
      "[18,     0] loss: 0.008\n",
      "[19,     0] loss: 0.008\n",
      "[20,     0] loss: 0.008\n",
      "[21,     0] loss: 0.008\n",
      "[22,     0] loss: 0.008\n",
      "[23,     0] loss: 0.008\n",
      "[24,     0] loss: 0.008\n",
      "[25,     0] loss: 0.008\n",
      "[26,     0] loss: 0.008\n",
      "[27,     0] loss: 0.008\n",
      "[28,     0] loss: 0.008\n",
      "[29,     0] loss: 0.008\n",
      "[30,     0] loss: 0.008\n",
      "Finished Training\n",
      "Accuracy of the network on the 10000 test images: 8.7 %\n",
      "Accuracy with params {'n_units': 128, 'lr': 1e-05} was 8.70\n",
      "[1,     0] loss: 0.008\n",
      "[2,     0] loss: 0.008\n",
      "[3,     0] loss: 0.008\n",
      "[4,     0] loss: 0.008\n",
      "[5,     0] loss: 0.008\n",
      "[6,     0] loss: 0.008\n",
      "[7,     0] loss: 0.008\n",
      "[8,     0] loss: 0.008\n",
      "[9,     0] loss: 0.008\n",
      "[10,     0] loss: 0.008\n",
      "[11,     0] loss: 0.008\n",
      "[12,     0] loss: 0.008\n",
      "[13,     0] loss: 0.008\n",
      "[14,     0] loss: 0.008\n",
      "[15,     0] loss: 0.008\n",
      "[16,     0] loss: 0.008\n",
      "[17,     0] loss: 0.008\n",
      "[18,     0] loss: 0.008\n",
      "[19,     0] loss: 0.008\n",
      "[20,     0] loss: 0.008\n",
      "[21,     0] loss: 0.008\n",
      "[22,     0] loss: 0.008\n",
      "[23,     0] loss: 0.008\n",
      "[24,     0] loss: 0.008\n",
      "[25,     0] loss: 0.008\n",
      "[26,     0] loss: 0.008\n",
      "[27,     0] loss: 0.008\n",
      "[28,     0] loss: 0.008\n",
      "[29,     0] loss: 0.008\n",
      "[30,     0] loss: 0.008\n",
      "Finished Training\n",
      "Accuracy of the network on the 10000 test images: 9.8 %\n",
      "Accuracy with params {'n_units': 256, 'lr': 1e-06} was 9.80\n",
      "[1,     0] loss: 0.008\n",
      "[2,     0] loss: 0.008\n",
      "[3,     0] loss: 0.008\n",
      "[4,     0] loss: 0.008\n",
      "[5,     0] loss: 0.008\n",
      "[6,     0] loss: 0.008\n",
      "[7,     0] loss: 0.008\n",
      "[8,     0] loss: 0.008\n",
      "[9,     0] loss: 0.008\n",
      "[10,     0] loss: 0.008\n",
      "[11,     0] loss: 0.008\n",
      "[12,     0] loss: 0.008\n",
      "[13,     0] loss: 0.008\n",
      "[14,     0] loss: 0.008\n",
      "[15,     0] loss: 0.008\n",
      "[16,     0] loss: 0.008\n",
      "[17,     0] loss: 0.008\n",
      "[18,     0] loss: 0.008\n",
      "[19,     0] loss: 0.008\n",
      "[20,     0] loss: 0.008\n",
      "[21,     0] loss: 0.008\n",
      "[22,     0] loss: 0.008\n",
      "[23,     0] loss: 0.008\n",
      "[24,     0] loss: 0.008\n",
      "[25,     0] loss: 0.008\n",
      "[26,     0] loss: 0.008\n",
      "[27,     0] loss: 0.008\n",
      "[28,     0] loss: 0.008\n",
      "[29,     0] loss: 0.008\n",
      "[30,     0] loss: 0.008\n",
      "Finished Training\n",
      "Accuracy of the network on the 10000 test images: 9.5 %\n",
      "Accuracy with params {'n_units': 64, 'lr': 0.0001} was 9.50\n",
      "[1,     0] loss: 0.008\n",
      "[2,     0] loss: 0.008\n",
      "[3,     0] loss: 0.008\n",
      "[4,     0] loss: 0.008\n",
      "[5,     0] loss: 0.008\n",
      "[6,     0] loss: 0.008\n",
      "[7,     0] loss: 0.008\n",
      "[8,     0] loss: 0.008\n",
      "[9,     0] loss: 0.008\n",
      "[10,     0] loss: 0.008\n",
      "[11,     0] loss: 0.007\n",
      "[12,     0] loss: 0.007\n",
      "[13,     0] loss: 0.007\n",
      "[14,     0] loss: 0.006\n",
      "[15,     0] loss: 0.006\n",
      "[16,     0] loss: 0.006\n",
      "[17,     0] loss: 0.006\n",
      "[18,     0] loss: 0.007\n",
      "[19,     0] loss: 0.006\n",
      "[20,     0] loss: 0.006\n",
      "[21,     0] loss: 0.006\n",
      "[22,     0] loss: 0.006\n",
      "[23,     0] loss: 0.006\n",
      "[24,     0] loss: 0.005\n",
      "[25,     0] loss: 0.005\n",
      "[26,     0] loss: 0.005\n",
      "[27,     0] loss: 0.006\n",
      "[28,     0] loss: 0.006\n",
      "[29,     0] loss: 0.006\n",
      "[30,     0] loss: 0.006\n",
      "Finished Training\n",
      "Accuracy of the network on the 10000 test images: 39.7 %\n",
      "Accuracy with params {'n_units': 128, 'lr': 0.001} was 39.70\n",
      "[1,     0] loss: 0.008\n",
      "[2,     0] loss: 0.008\n",
      "[3,     0] loss: 0.008\n",
      "[4,     0] loss: 0.008\n",
      "[5,     0] loss: 0.008\n",
      "[6,     0] loss: 0.007\n",
      "[7,     0] loss: 0.007\n",
      "[8,     0] loss: 0.007\n",
      "[9,     0] loss: 0.007\n",
      "[10,     0] loss: 0.006\n",
      "[11,     0] loss: 0.006\n",
      "[12,     0] loss: 0.006\n",
      "[13,     0] loss: 0.006\n",
      "[14,     0] loss: 0.006\n",
      "[15,     0] loss: 0.006\n",
      "[16,     0] loss: 0.006\n",
      "[17,     0] loss: 0.007\n",
      "[18,     0] loss: 0.006\n",
      "[19,     0] loss: 0.006\n",
      "[20,     0] loss: 0.005\n",
      "[21,     0] loss: 0.006\n",
      "[22,     0] loss: 0.005\n",
      "[23,     0] loss: 0.005\n",
      "[24,     0] loss: 0.005\n",
      "[25,     0] loss: 0.006\n",
      "[26,     0] loss: 0.004\n",
      "[27,     0] loss: 0.004\n",
      "[28,     0] loss: 0.005\n",
      "[29,     0] loss: 0.004\n",
      "[30,     0] loss: 0.004\n",
      "Finished Training\n",
      "Accuracy of the network on the 10000 test images: 43.7 %\n",
      "Accuracy with params {'n_units': 256, 'lr': 0.001} was 43.70\n",
      "[1,     0] loss: 0.008\n",
      "[2,     0] loss: 0.008\n",
      "[3,     0] loss: 0.008\n",
      "[4,     0] loss: 0.008\n",
      "[5,     0] loss: 0.008\n",
      "[6,     0] loss: 0.008\n",
      "[7,     0] loss: 0.008\n",
      "[8,     0] loss: 0.008\n",
      "[9,     0] loss: 0.008\n",
      "[10,     0] loss: 0.008\n",
      "[11,     0] loss: 0.008\n",
      "[12,     0] loss: 0.008\n",
      "[13,     0] loss: 0.008\n",
      "[14,     0] loss: 0.008\n",
      "[15,     0] loss: 0.008\n",
      "[16,     0] loss: 0.008\n",
      "[17,     0] loss: 0.008\n",
      "[18,     0] loss: 0.008\n",
      "[19,     0] loss: 0.008\n",
      "[20,     0] loss: 0.008\n",
      "[21,     0] loss: 0.008\n",
      "[22,     0] loss: 0.008\n",
      "[23,     0] loss: 0.008\n",
      "[24,     0] loss: 0.008\n",
      "[25,     0] loss: 0.008\n",
      "[26,     0] loss: 0.008\n",
      "[27,     0] loss: 0.008\n",
      "[28,     0] loss: 0.008\n",
      "[29,     0] loss: 0.008\n",
      "[30,     0] loss: 0.008\n",
      "Finished Training\n",
      "Accuracy of the network on the 10000 test images: 9.7 %\n",
      "Accuracy with params {'n_units': 128, 'lr': 1e-06} was 9.70\n",
      "[1,     0] loss: 0.008\n",
      "[2,     0] loss: 0.008\n",
      "[3,     0] loss: 0.008\n",
      "[4,     0] loss: 0.008\n",
      "[5,     0] loss: 0.008\n",
      "[6,     0] loss: 0.008\n",
      "[7,     0] loss: 0.008\n",
      "[8,     0] loss: 0.008\n",
      "[9,     0] loss: 0.008\n",
      "[10,     0] loss: 0.008\n",
      "[11,     0] loss: 0.008\n",
      "[12,     0] loss: 0.008\n",
      "[13,     0] loss: 0.008\n",
      "[14,     0] loss: 0.008\n",
      "[15,     0] loss: 0.008\n",
      "[16,     0] loss: 0.008\n",
      "[17,     0] loss: 0.008\n",
      "[18,     0] loss: 0.008\n",
      "[19,     0] loss: 0.008\n",
      "[20,     0] loss: 0.008\n",
      "[21,     0] loss: 0.008\n",
      "[22,     0] loss: 0.008\n",
      "[23,     0] loss: 0.008\n",
      "[24,     0] loss: 0.008\n",
      "[25,     0] loss: 0.008\n",
      "[26,     0] loss: 0.008\n",
      "[27,     0] loss: 0.008\n",
      "[28,     0] loss: 0.008\n",
      "[29,     0] loss: 0.008\n",
      "[30,     0] loss: 0.008\n",
      "Finished Training\n",
      "Accuracy of the network on the 10000 test images: 10.8 %\n",
      "Accuracy with params {'n_units': 256, 'lr': 1e-05} was 10.80\n",
      "[1,     0] loss: 0.008\n",
      "[2,     0] loss: 0.008\n",
      "[3,     0] loss: 0.008\n",
      "[4,     0] loss: 0.008\n",
      "[5,     0] loss: 0.008\n",
      "[6,     0] loss: 0.008\n",
      "[7,     0] loss: 0.008\n",
      "[8,     0] loss: 0.008\n",
      "[9,     0] loss: 0.008\n",
      "[10,     0] loss: 0.008\n",
      "[11,     0] loss: 0.008\n",
      "[12,     0] loss: 0.008\n",
      "[13,     0] loss: 0.008\n",
      "[14,     0] loss: 0.008\n",
      "[15,     0] loss: 0.008\n",
      "[16,     0] loss: 0.008\n",
      "[17,     0] loss: 0.008\n",
      "[18,     0] loss: 0.008\n",
      "[19,     0] loss: 0.008\n",
      "[20,     0] loss: 0.008\n",
      "[21,     0] loss: 0.008\n",
      "[22,     0] loss: 0.008\n",
      "[23,     0] loss: 0.008\n",
      "[24,     0] loss: 0.008\n",
      "[25,     0] loss: 0.008\n",
      "[26,     0] loss: 0.008\n",
      "[27,     0] loss: 0.008\n",
      "[28,     0] loss: 0.008\n",
      "[29,     0] loss: 0.008\n",
      "[30,     0] loss: 0.008\n",
      "Finished Training\n",
      "Accuracy of the network on the 10000 test images: 11.7 %\n",
      "Accuracy with params {'n_units': 512, 'lr': 1e-06} was 11.70\n"
     ]
    }
   ],
   "source": [
    "obj_list = []\n",
    "for params in param_list:\n",
    "    accuracy = objective_function(params)\n",
    "    obj_list.append(accuracy)\n",
    "    print(f\"Accuracy with params {params} was {accuracy:.2f}\")\n"
   ]
  },
  {
   "cell_type": "code",
   "execution_count": 92,
   "metadata": {},
   "outputs": [],
   "source": [
    "# load in the list if we have already run the objective function\n",
    "# obj_list = pd.read_csv(\"obj_list.csv\")\n",
    "# obj_list = list(obj_list.iloc[:,0].to_numpy())\n",
    "\n",
    "# get the values from the param list and concatenate them into a string\n",
    "x_values = [\"-\".join(list(map(str,list(params.values())))) for params in param_list]\n",
    "\n",
    "# save the obj_list to csv file\n",
    "obj_pd = pd.DataFrame(obj_list, columns=[\"accuracy\"])\n",
    "obj_pd.to_csv(\"obj_list.csv\", index=False)"
   ]
  },
  {
   "cell_type": "code",
   "execution_count": 91,
   "metadata": {},
   "outputs": [
    {
     "data": {
      "text/plain": [
       "[41.9, 11.5, 8.7, 9.8, 9.5, 39.7, 43.7, 9.7, 10.8, 11.7]"
      ]
     },
     "execution_count": 91,
     "metadata": {},
     "output_type": "execute_result"
    }
   ],
   "source": []
  },
  {
   "cell_type": "code",
   "execution_count": 93,
   "metadata": {},
   "outputs": [
    {
     "ename": "ValueError",
     "evalue": "Mime type rendering requires nbformat>=4.2.0 but it is not installed",
     "output_type": "error",
     "traceback": [
      "\u001b[1;31m---------------------------------------------------------------------------\u001b[0m",
      "\u001b[1;31mValueError\u001b[0m                                Traceback (most recent call last)",
      "File \u001b[1;32mc:\\Python39\\lib\\site-packages\\IPython\\core\\formatters.py:921\u001b[0m, in \u001b[0;36mIPythonDisplayFormatter.__call__\u001b[1;34m(self, obj)\u001b[0m\n\u001b[0;32m    919\u001b[0m method \u001b[39m=\u001b[39m get_real_method(obj, \u001b[39mself\u001b[39m\u001b[39m.\u001b[39mprint_method)\n\u001b[0;32m    920\u001b[0m \u001b[39mif\u001b[39;00m method \u001b[39mis\u001b[39;00m \u001b[39mnot\u001b[39;00m \u001b[39mNone\u001b[39;00m:\n\u001b[1;32m--> 921\u001b[0m     method()\n\u001b[0;32m    922\u001b[0m     \u001b[39mreturn\u001b[39;00m \u001b[39mTrue\u001b[39;00m\n",
      "File \u001b[1;32mc:\\Python39\\lib\\site-packages\\plotly\\basedatatypes.py:834\u001b[0m, in \u001b[0;36mBaseFigure._ipython_display_\u001b[1;34m(self)\u001b[0m\n\u001b[0;32m    831\u001b[0m \u001b[39mimport\u001b[39;00m \u001b[39mplotly\u001b[39;00m\u001b[39m.\u001b[39;00m\u001b[39mio\u001b[39;00m \u001b[39mas\u001b[39;00m \u001b[39mpio\u001b[39;00m\n\u001b[0;32m    833\u001b[0m \u001b[39mif\u001b[39;00m pio\u001b[39m.\u001b[39mrenderers\u001b[39m.\u001b[39mrender_on_display \u001b[39mand\u001b[39;00m pio\u001b[39m.\u001b[39mrenderers\u001b[39m.\u001b[39mdefault:\n\u001b[1;32m--> 834\u001b[0m     pio\u001b[39m.\u001b[39;49mshow(\u001b[39mself\u001b[39;49m)\n\u001b[0;32m    835\u001b[0m \u001b[39melse\u001b[39;00m:\n\u001b[0;32m    836\u001b[0m     \u001b[39mprint\u001b[39m(\u001b[39mrepr\u001b[39m(\u001b[39mself\u001b[39m))\n",
      "File \u001b[1;32mc:\\Python39\\lib\\site-packages\\plotly\\io\\_renderers.py:396\u001b[0m, in \u001b[0;36mshow\u001b[1;34m(fig, renderer, validate, **kwargs)\u001b[0m\n\u001b[0;32m    391\u001b[0m         \u001b[39mraise\u001b[39;00m \u001b[39mValueError\u001b[39;00m(\n\u001b[0;32m    392\u001b[0m             \u001b[39m\"\u001b[39m\u001b[39mMime type rendering requires ipython but it is not installed\u001b[39m\u001b[39m\"\u001b[39m\n\u001b[0;32m    393\u001b[0m         )\n\u001b[0;32m    395\u001b[0m     \u001b[39mif\u001b[39;00m \u001b[39mnot\u001b[39;00m nbformat \u001b[39mor\u001b[39;00m LooseVersion(nbformat\u001b[39m.\u001b[39m__version__) \u001b[39m<\u001b[39m LooseVersion(\u001b[39m\"\u001b[39m\u001b[39m4.2.0\u001b[39m\u001b[39m\"\u001b[39m):\n\u001b[1;32m--> 396\u001b[0m         \u001b[39mraise\u001b[39;00m \u001b[39mValueError\u001b[39;00m(\n\u001b[0;32m    397\u001b[0m             \u001b[39m\"\u001b[39m\u001b[39mMime type rendering requires nbformat>=4.2.0 but it is not installed\u001b[39m\u001b[39m\"\u001b[39m\n\u001b[0;32m    398\u001b[0m         )\n\u001b[0;32m    400\u001b[0m     ipython_display\u001b[39m.\u001b[39mdisplay(bundle, raw\u001b[39m=\u001b[39m\u001b[39mTrue\u001b[39;00m)\n\u001b[0;32m    402\u001b[0m \u001b[39m# external renderers\u001b[39;00m\n",
      "\u001b[1;31mValueError\u001b[0m: Mime type rendering requires nbformat>=4.2.0 but it is not installed"
     ]
    },
    {
     "data": {
      "application/vnd.plotly.v1+json": {
       "config": {
        "plotlyServerURL": "https://plot.ly"
       },
       "data": [
        {
         "alignmentgroup": "True",
         "hovertemplate": "x=%{x}<br>y=%{y}<extra></extra>",
         "legendgroup": "",
         "marker": {
          "color": "#636efa",
          "pattern": {
           "shape": ""
          }
         },
         "name": "",
         "offsetgroup": "",
         "orientation": "v",
         "showlegend": false,
         "textposition": "auto",
         "type": "bar",
         "x": [
          "64-0.001",
          "64-1e-06",
          "128-1e-05",
          "256-1e-06",
          "64-0.0001",
          "128-0.001",
          "256-0.001",
          "128-1e-06",
          "256-1e-05",
          "512-1e-06"
         ],
         "xaxis": "x",
         "y": [
          41.9,
          11.5,
          8.7,
          9.8,
          9.5,
          39.7,
          43.7,
          9.7,
          10.8,
          11.7
         ],
         "yaxis": "y"
        }
       ],
       "layout": {
        "barmode": "relative",
        "legend": {
         "tracegroupgap": 0
        },
        "template": {
         "data": {
          "bar": [
           {
            "error_x": {
             "color": "#2a3f5f"
            },
            "error_y": {
             "color": "#2a3f5f"
            },
            "marker": {
             "line": {
              "color": "#E5ECF6",
              "width": 0.5
             },
             "pattern": {
              "fillmode": "overlay",
              "size": 10,
              "solidity": 0.2
             }
            },
            "type": "bar"
           }
          ],
          "barpolar": [
           {
            "marker": {
             "line": {
              "color": "#E5ECF6",
              "width": 0.5
             },
             "pattern": {
              "fillmode": "overlay",
              "size": 10,
              "solidity": 0.2
             }
            },
            "type": "barpolar"
           }
          ],
          "carpet": [
           {
            "aaxis": {
             "endlinecolor": "#2a3f5f",
             "gridcolor": "white",
             "linecolor": "white",
             "minorgridcolor": "white",
             "startlinecolor": "#2a3f5f"
            },
            "baxis": {
             "endlinecolor": "#2a3f5f",
             "gridcolor": "white",
             "linecolor": "white",
             "minorgridcolor": "white",
             "startlinecolor": "#2a3f5f"
            },
            "type": "carpet"
           }
          ],
          "choropleth": [
           {
            "colorbar": {
             "outlinewidth": 0,
             "ticks": ""
            },
            "type": "choropleth"
           }
          ],
          "contour": [
           {
            "colorbar": {
             "outlinewidth": 0,
             "ticks": ""
            },
            "colorscale": [
             [
              0,
              "#0d0887"
             ],
             [
              0.1111111111111111,
              "#46039f"
             ],
             [
              0.2222222222222222,
              "#7201a8"
             ],
             [
              0.3333333333333333,
              "#9c179e"
             ],
             [
              0.4444444444444444,
              "#bd3786"
             ],
             [
              0.5555555555555556,
              "#d8576b"
             ],
             [
              0.6666666666666666,
              "#ed7953"
             ],
             [
              0.7777777777777778,
              "#fb9f3a"
             ],
             [
              0.8888888888888888,
              "#fdca26"
             ],
             [
              1,
              "#f0f921"
             ]
            ],
            "type": "contour"
           }
          ],
          "contourcarpet": [
           {
            "colorbar": {
             "outlinewidth": 0,
             "ticks": ""
            },
            "type": "contourcarpet"
           }
          ],
          "heatmap": [
           {
            "colorbar": {
             "outlinewidth": 0,
             "ticks": ""
            },
            "colorscale": [
             [
              0,
              "#0d0887"
             ],
             [
              0.1111111111111111,
              "#46039f"
             ],
             [
              0.2222222222222222,
              "#7201a8"
             ],
             [
              0.3333333333333333,
              "#9c179e"
             ],
             [
              0.4444444444444444,
              "#bd3786"
             ],
             [
              0.5555555555555556,
              "#d8576b"
             ],
             [
              0.6666666666666666,
              "#ed7953"
             ],
             [
              0.7777777777777778,
              "#fb9f3a"
             ],
             [
              0.8888888888888888,
              "#fdca26"
             ],
             [
              1,
              "#f0f921"
             ]
            ],
            "type": "heatmap"
           }
          ],
          "heatmapgl": [
           {
            "colorbar": {
             "outlinewidth": 0,
             "ticks": ""
            },
            "colorscale": [
             [
              0,
              "#0d0887"
             ],
             [
              0.1111111111111111,
              "#46039f"
             ],
             [
              0.2222222222222222,
              "#7201a8"
             ],
             [
              0.3333333333333333,
              "#9c179e"
             ],
             [
              0.4444444444444444,
              "#bd3786"
             ],
             [
              0.5555555555555556,
              "#d8576b"
             ],
             [
              0.6666666666666666,
              "#ed7953"
             ],
             [
              0.7777777777777778,
              "#fb9f3a"
             ],
             [
              0.8888888888888888,
              "#fdca26"
             ],
             [
              1,
              "#f0f921"
             ]
            ],
            "type": "heatmapgl"
           }
          ],
          "histogram": [
           {
            "marker": {
             "pattern": {
              "fillmode": "overlay",
              "size": 10,
              "solidity": 0.2
             }
            },
            "type": "histogram"
           }
          ],
          "histogram2d": [
           {
            "colorbar": {
             "outlinewidth": 0,
             "ticks": ""
            },
            "colorscale": [
             [
              0,
              "#0d0887"
             ],
             [
              0.1111111111111111,
              "#46039f"
             ],
             [
              0.2222222222222222,
              "#7201a8"
             ],
             [
              0.3333333333333333,
              "#9c179e"
             ],
             [
              0.4444444444444444,
              "#bd3786"
             ],
             [
              0.5555555555555556,
              "#d8576b"
             ],
             [
              0.6666666666666666,
              "#ed7953"
             ],
             [
              0.7777777777777778,
              "#fb9f3a"
             ],
             [
              0.8888888888888888,
              "#fdca26"
             ],
             [
              1,
              "#f0f921"
             ]
            ],
            "type": "histogram2d"
           }
          ],
          "histogram2dcontour": [
           {
            "colorbar": {
             "outlinewidth": 0,
             "ticks": ""
            },
            "colorscale": [
             [
              0,
              "#0d0887"
             ],
             [
              0.1111111111111111,
              "#46039f"
             ],
             [
              0.2222222222222222,
              "#7201a8"
             ],
             [
              0.3333333333333333,
              "#9c179e"
             ],
             [
              0.4444444444444444,
              "#bd3786"
             ],
             [
              0.5555555555555556,
              "#d8576b"
             ],
             [
              0.6666666666666666,
              "#ed7953"
             ],
             [
              0.7777777777777778,
              "#fb9f3a"
             ],
             [
              0.8888888888888888,
              "#fdca26"
             ],
             [
              1,
              "#f0f921"
             ]
            ],
            "type": "histogram2dcontour"
           }
          ],
          "mesh3d": [
           {
            "colorbar": {
             "outlinewidth": 0,
             "ticks": ""
            },
            "type": "mesh3d"
           }
          ],
          "parcoords": [
           {
            "line": {
             "colorbar": {
              "outlinewidth": 0,
              "ticks": ""
             }
            },
            "type": "parcoords"
           }
          ],
          "pie": [
           {
            "automargin": true,
            "type": "pie"
           }
          ],
          "scatter": [
           {
            "fillpattern": {
             "fillmode": "overlay",
             "size": 10,
             "solidity": 0.2
            },
            "type": "scatter"
           }
          ],
          "scatter3d": [
           {
            "line": {
             "colorbar": {
              "outlinewidth": 0,
              "ticks": ""
             }
            },
            "marker": {
             "colorbar": {
              "outlinewidth": 0,
              "ticks": ""
             }
            },
            "type": "scatter3d"
           }
          ],
          "scattercarpet": [
           {
            "marker": {
             "colorbar": {
              "outlinewidth": 0,
              "ticks": ""
             }
            },
            "type": "scattercarpet"
           }
          ],
          "scattergeo": [
           {
            "marker": {
             "colorbar": {
              "outlinewidth": 0,
              "ticks": ""
             }
            },
            "type": "scattergeo"
           }
          ],
          "scattergl": [
           {
            "marker": {
             "colorbar": {
              "outlinewidth": 0,
              "ticks": ""
             }
            },
            "type": "scattergl"
           }
          ],
          "scattermapbox": [
           {
            "marker": {
             "colorbar": {
              "outlinewidth": 0,
              "ticks": ""
             }
            },
            "type": "scattermapbox"
           }
          ],
          "scatterpolar": [
           {
            "marker": {
             "colorbar": {
              "outlinewidth": 0,
              "ticks": ""
             }
            },
            "type": "scatterpolar"
           }
          ],
          "scatterpolargl": [
           {
            "marker": {
             "colorbar": {
              "outlinewidth": 0,
              "ticks": ""
             }
            },
            "type": "scatterpolargl"
           }
          ],
          "scatterternary": [
           {
            "marker": {
             "colorbar": {
              "outlinewidth": 0,
              "ticks": ""
             }
            },
            "type": "scatterternary"
           }
          ],
          "surface": [
           {
            "colorbar": {
             "outlinewidth": 0,
             "ticks": ""
            },
            "colorscale": [
             [
              0,
              "#0d0887"
             ],
             [
              0.1111111111111111,
              "#46039f"
             ],
             [
              0.2222222222222222,
              "#7201a8"
             ],
             [
              0.3333333333333333,
              "#9c179e"
             ],
             [
              0.4444444444444444,
              "#bd3786"
             ],
             [
              0.5555555555555556,
              "#d8576b"
             ],
             [
              0.6666666666666666,
              "#ed7953"
             ],
             [
              0.7777777777777778,
              "#fb9f3a"
             ],
             [
              0.8888888888888888,
              "#fdca26"
             ],
             [
              1,
              "#f0f921"
             ]
            ],
            "type": "surface"
           }
          ],
          "table": [
           {
            "cells": {
             "fill": {
              "color": "#EBF0F8"
             },
             "line": {
              "color": "white"
             }
            },
            "header": {
             "fill": {
              "color": "#C8D4E3"
             },
             "line": {
              "color": "white"
             }
            },
            "type": "table"
           }
          ]
         },
         "layout": {
          "annotationdefaults": {
           "arrowcolor": "#2a3f5f",
           "arrowhead": 0,
           "arrowwidth": 1
          },
          "autotypenumbers": "strict",
          "coloraxis": {
           "colorbar": {
            "outlinewidth": 0,
            "ticks": ""
           }
          },
          "colorscale": {
           "diverging": [
            [
             0,
             "#8e0152"
            ],
            [
             0.1,
             "#c51b7d"
            ],
            [
             0.2,
             "#de77ae"
            ],
            [
             0.3,
             "#f1b6da"
            ],
            [
             0.4,
             "#fde0ef"
            ],
            [
             0.5,
             "#f7f7f7"
            ],
            [
             0.6,
             "#e6f5d0"
            ],
            [
             0.7,
             "#b8e186"
            ],
            [
             0.8,
             "#7fbc41"
            ],
            [
             0.9,
             "#4d9221"
            ],
            [
             1,
             "#276419"
            ]
           ],
           "sequential": [
            [
             0,
             "#0d0887"
            ],
            [
             0.1111111111111111,
             "#46039f"
            ],
            [
             0.2222222222222222,
             "#7201a8"
            ],
            [
             0.3333333333333333,
             "#9c179e"
            ],
            [
             0.4444444444444444,
             "#bd3786"
            ],
            [
             0.5555555555555556,
             "#d8576b"
            ],
            [
             0.6666666666666666,
             "#ed7953"
            ],
            [
             0.7777777777777778,
             "#fb9f3a"
            ],
            [
             0.8888888888888888,
             "#fdca26"
            ],
            [
             1,
             "#f0f921"
            ]
           ],
           "sequentialminus": [
            [
             0,
             "#0d0887"
            ],
            [
             0.1111111111111111,
             "#46039f"
            ],
            [
             0.2222222222222222,
             "#7201a8"
            ],
            [
             0.3333333333333333,
             "#9c179e"
            ],
            [
             0.4444444444444444,
             "#bd3786"
            ],
            [
             0.5555555555555556,
             "#d8576b"
            ],
            [
             0.6666666666666666,
             "#ed7953"
            ],
            [
             0.7777777777777778,
             "#fb9f3a"
            ],
            [
             0.8888888888888888,
             "#fdca26"
            ],
            [
             1,
             "#f0f921"
            ]
           ]
          },
          "colorway": [
           "#636efa",
           "#EF553B",
           "#00cc96",
           "#ab63fa",
           "#FFA15A",
           "#19d3f3",
           "#FF6692",
           "#B6E880",
           "#FF97FF",
           "#FECB52"
          ],
          "font": {
           "color": "#2a3f5f"
          },
          "geo": {
           "bgcolor": "white",
           "lakecolor": "white",
           "landcolor": "#E5ECF6",
           "showlakes": true,
           "showland": true,
           "subunitcolor": "white"
          },
          "hoverlabel": {
           "align": "left"
          },
          "hovermode": "closest",
          "mapbox": {
           "style": "light"
          },
          "paper_bgcolor": "white",
          "plot_bgcolor": "#E5ECF6",
          "polar": {
           "angularaxis": {
            "gridcolor": "white",
            "linecolor": "white",
            "ticks": ""
           },
           "bgcolor": "#E5ECF6",
           "radialaxis": {
            "gridcolor": "white",
            "linecolor": "white",
            "ticks": ""
           }
          },
          "scene": {
           "xaxis": {
            "backgroundcolor": "#E5ECF6",
            "gridcolor": "white",
            "gridwidth": 2,
            "linecolor": "white",
            "showbackground": true,
            "ticks": "",
            "zerolinecolor": "white"
           },
           "yaxis": {
            "backgroundcolor": "#E5ECF6",
            "gridcolor": "white",
            "gridwidth": 2,
            "linecolor": "white",
            "showbackground": true,
            "ticks": "",
            "zerolinecolor": "white"
           },
           "zaxis": {
            "backgroundcolor": "#E5ECF6",
            "gridcolor": "white",
            "gridwidth": 2,
            "linecolor": "white",
            "showbackground": true,
            "ticks": "",
            "zerolinecolor": "white"
           }
          },
          "shapedefaults": {
           "line": {
            "color": "#2a3f5f"
           }
          },
          "ternary": {
           "aaxis": {
            "gridcolor": "white",
            "linecolor": "white",
            "ticks": ""
           },
           "baxis": {
            "gridcolor": "white",
            "linecolor": "white",
            "ticks": ""
           },
           "bgcolor": "#E5ECF6",
           "caxis": {
            "gridcolor": "white",
            "linecolor": "white",
            "ticks": ""
           }
          },
          "title": {
           "x": 0.05
          },
          "xaxis": {
           "automargin": true,
           "gridcolor": "white",
           "linecolor": "white",
           "ticks": "",
           "title": {
            "standoff": 15
           },
           "zerolinecolor": "white",
           "zerolinewidth": 2
          },
          "yaxis": {
           "automargin": true,
           "gridcolor": "white",
           "linecolor": "white",
           "ticks": "",
           "title": {
            "standoff": 15
           },
           "zerolinecolor": "white",
           "zerolinewidth": 2
          }
         }
        },
        "title": {
         "text": "Accuracy vs. Parameters"
        },
        "xaxis": {
         "anchor": "y",
         "domain": [
          0,
          1
         ],
         "title": {
          "text": "x"
         }
        },
        "yaxis": {
         "anchor": "x",
         "domain": [
          0,
          1
         ],
         "title": {
          "text": "y"
         }
        }
       }
      },
      "text/html": [
       "<div>                        <script type=\"text/javascript\">window.PlotlyConfig = {MathJaxConfig: 'local'};</script>\n",
       "        <script src=\"https://cdn.plot.ly/plotly-2.18.0.min.js\"></script>                <div id=\"5ee66f8a-ae57-4ec3-a8e4-473dc5aa1779\" class=\"plotly-graph-div\" style=\"height:100%; width:100%;\"></div>            <script type=\"text/javascript\">                                    window.PLOTLYENV=window.PLOTLYENV || {};                                    if (document.getElementById(\"5ee66f8a-ae57-4ec3-a8e4-473dc5aa1779\")) {                    Plotly.newPlot(                        \"5ee66f8a-ae57-4ec3-a8e4-473dc5aa1779\",                        [{\"alignmentgroup\":\"True\",\"hovertemplate\":\"x=%{x}<br>y=%{y}<extra></extra>\",\"legendgroup\":\"\",\"marker\":{\"color\":\"#636efa\",\"pattern\":{\"shape\":\"\"}},\"name\":\"\",\"offsetgroup\":\"\",\"orientation\":\"v\",\"showlegend\":false,\"textposition\":\"auto\",\"x\":[\"64-0.001\",\"64-1e-06\",\"128-1e-05\",\"256-1e-06\",\"64-0.0001\",\"128-0.001\",\"256-0.001\",\"128-1e-06\",\"256-1e-05\",\"512-1e-06\"],\"xaxis\":\"x\",\"y\":[41.9,11.5,8.7,9.8,9.5,39.7,43.7,9.7,10.8,11.7],\"yaxis\":\"y\",\"type\":\"bar\"}],                        {\"template\":{\"data\":{\"histogram2dcontour\":[{\"type\":\"histogram2dcontour\",\"colorbar\":{\"outlinewidth\":0,\"ticks\":\"\"},\"colorscale\":[[0.0,\"#0d0887\"],[0.1111111111111111,\"#46039f\"],[0.2222222222222222,\"#7201a8\"],[0.3333333333333333,\"#9c179e\"],[0.4444444444444444,\"#bd3786\"],[0.5555555555555556,\"#d8576b\"],[0.6666666666666666,\"#ed7953\"],[0.7777777777777778,\"#fb9f3a\"],[0.8888888888888888,\"#fdca26\"],[1.0,\"#f0f921\"]]}],\"choropleth\":[{\"type\":\"choropleth\",\"colorbar\":{\"outlinewidth\":0,\"ticks\":\"\"}}],\"histogram2d\":[{\"type\":\"histogram2d\",\"colorbar\":{\"outlinewidth\":0,\"ticks\":\"\"},\"colorscale\":[[0.0,\"#0d0887\"],[0.1111111111111111,\"#46039f\"],[0.2222222222222222,\"#7201a8\"],[0.3333333333333333,\"#9c179e\"],[0.4444444444444444,\"#bd3786\"],[0.5555555555555556,\"#d8576b\"],[0.6666666666666666,\"#ed7953\"],[0.7777777777777778,\"#fb9f3a\"],[0.8888888888888888,\"#fdca26\"],[1.0,\"#f0f921\"]]}],\"heatmap\":[{\"type\":\"heatmap\",\"colorbar\":{\"outlinewidth\":0,\"ticks\":\"\"},\"colorscale\":[[0.0,\"#0d0887\"],[0.1111111111111111,\"#46039f\"],[0.2222222222222222,\"#7201a8\"],[0.3333333333333333,\"#9c179e\"],[0.4444444444444444,\"#bd3786\"],[0.5555555555555556,\"#d8576b\"],[0.6666666666666666,\"#ed7953\"],[0.7777777777777778,\"#fb9f3a\"],[0.8888888888888888,\"#fdca26\"],[1.0,\"#f0f921\"]]}],\"heatmapgl\":[{\"type\":\"heatmapgl\",\"colorbar\":{\"outlinewidth\":0,\"ticks\":\"\"},\"colorscale\":[[0.0,\"#0d0887\"],[0.1111111111111111,\"#46039f\"],[0.2222222222222222,\"#7201a8\"],[0.3333333333333333,\"#9c179e\"],[0.4444444444444444,\"#bd3786\"],[0.5555555555555556,\"#d8576b\"],[0.6666666666666666,\"#ed7953\"],[0.7777777777777778,\"#fb9f3a\"],[0.8888888888888888,\"#fdca26\"],[1.0,\"#f0f921\"]]}],\"contourcarpet\":[{\"type\":\"contourcarpet\",\"colorbar\":{\"outlinewidth\":0,\"ticks\":\"\"}}],\"contour\":[{\"type\":\"contour\",\"colorbar\":{\"outlinewidth\":0,\"ticks\":\"\"},\"colorscale\":[[0.0,\"#0d0887\"],[0.1111111111111111,\"#46039f\"],[0.2222222222222222,\"#7201a8\"],[0.3333333333333333,\"#9c179e\"],[0.4444444444444444,\"#bd3786\"],[0.5555555555555556,\"#d8576b\"],[0.6666666666666666,\"#ed7953\"],[0.7777777777777778,\"#fb9f3a\"],[0.8888888888888888,\"#fdca26\"],[1.0,\"#f0f921\"]]}],\"surface\":[{\"type\":\"surface\",\"colorbar\":{\"outlinewidth\":0,\"ticks\":\"\"},\"colorscale\":[[0.0,\"#0d0887\"],[0.1111111111111111,\"#46039f\"],[0.2222222222222222,\"#7201a8\"],[0.3333333333333333,\"#9c179e\"],[0.4444444444444444,\"#bd3786\"],[0.5555555555555556,\"#d8576b\"],[0.6666666666666666,\"#ed7953\"],[0.7777777777777778,\"#fb9f3a\"],[0.8888888888888888,\"#fdca26\"],[1.0,\"#f0f921\"]]}],\"mesh3d\":[{\"type\":\"mesh3d\",\"colorbar\":{\"outlinewidth\":0,\"ticks\":\"\"}}],\"scatter\":[{\"fillpattern\":{\"fillmode\":\"overlay\",\"size\":10,\"solidity\":0.2},\"type\":\"scatter\"}],\"parcoords\":[{\"type\":\"parcoords\",\"line\":{\"colorbar\":{\"outlinewidth\":0,\"ticks\":\"\"}}}],\"scatterpolargl\":[{\"type\":\"scatterpolargl\",\"marker\":{\"colorbar\":{\"outlinewidth\":0,\"ticks\":\"\"}}}],\"bar\":[{\"error_x\":{\"color\":\"#2a3f5f\"},\"error_y\":{\"color\":\"#2a3f5f\"},\"marker\":{\"line\":{\"color\":\"#E5ECF6\",\"width\":0.5},\"pattern\":{\"fillmode\":\"overlay\",\"size\":10,\"solidity\":0.2}},\"type\":\"bar\"}],\"scattergeo\":[{\"type\":\"scattergeo\",\"marker\":{\"colorbar\":{\"outlinewidth\":0,\"ticks\":\"\"}}}],\"scatterpolar\":[{\"type\":\"scatterpolar\",\"marker\":{\"colorbar\":{\"outlinewidth\":0,\"ticks\":\"\"}}}],\"histogram\":[{\"marker\":{\"pattern\":{\"fillmode\":\"overlay\",\"size\":10,\"solidity\":0.2}},\"type\":\"histogram\"}],\"scattergl\":[{\"type\":\"scattergl\",\"marker\":{\"colorbar\":{\"outlinewidth\":0,\"ticks\":\"\"}}}],\"scatter3d\":[{\"type\":\"scatter3d\",\"line\":{\"colorbar\":{\"outlinewidth\":0,\"ticks\":\"\"}},\"marker\":{\"colorbar\":{\"outlinewidth\":0,\"ticks\":\"\"}}}],\"scattermapbox\":[{\"type\":\"scattermapbox\",\"marker\":{\"colorbar\":{\"outlinewidth\":0,\"ticks\":\"\"}}}],\"scatterternary\":[{\"type\":\"scatterternary\",\"marker\":{\"colorbar\":{\"outlinewidth\":0,\"ticks\":\"\"}}}],\"scattercarpet\":[{\"type\":\"scattercarpet\",\"marker\":{\"colorbar\":{\"outlinewidth\":0,\"ticks\":\"\"}}}],\"carpet\":[{\"aaxis\":{\"endlinecolor\":\"#2a3f5f\",\"gridcolor\":\"white\",\"linecolor\":\"white\",\"minorgridcolor\":\"white\",\"startlinecolor\":\"#2a3f5f\"},\"baxis\":{\"endlinecolor\":\"#2a3f5f\",\"gridcolor\":\"white\",\"linecolor\":\"white\",\"minorgridcolor\":\"white\",\"startlinecolor\":\"#2a3f5f\"},\"type\":\"carpet\"}],\"table\":[{\"cells\":{\"fill\":{\"color\":\"#EBF0F8\"},\"line\":{\"color\":\"white\"}},\"header\":{\"fill\":{\"color\":\"#C8D4E3\"},\"line\":{\"color\":\"white\"}},\"type\":\"table\"}],\"barpolar\":[{\"marker\":{\"line\":{\"color\":\"#E5ECF6\",\"width\":0.5},\"pattern\":{\"fillmode\":\"overlay\",\"size\":10,\"solidity\":0.2}},\"type\":\"barpolar\"}],\"pie\":[{\"automargin\":true,\"type\":\"pie\"}]},\"layout\":{\"autotypenumbers\":\"strict\",\"colorway\":[\"#636efa\",\"#EF553B\",\"#00cc96\",\"#ab63fa\",\"#FFA15A\",\"#19d3f3\",\"#FF6692\",\"#B6E880\",\"#FF97FF\",\"#FECB52\"],\"font\":{\"color\":\"#2a3f5f\"},\"hovermode\":\"closest\",\"hoverlabel\":{\"align\":\"left\"},\"paper_bgcolor\":\"white\",\"plot_bgcolor\":\"#E5ECF6\",\"polar\":{\"bgcolor\":\"#E5ECF6\",\"angularaxis\":{\"gridcolor\":\"white\",\"linecolor\":\"white\",\"ticks\":\"\"},\"radialaxis\":{\"gridcolor\":\"white\",\"linecolor\":\"white\",\"ticks\":\"\"}},\"ternary\":{\"bgcolor\":\"#E5ECF6\",\"aaxis\":{\"gridcolor\":\"white\",\"linecolor\":\"white\",\"ticks\":\"\"},\"baxis\":{\"gridcolor\":\"white\",\"linecolor\":\"white\",\"ticks\":\"\"},\"caxis\":{\"gridcolor\":\"white\",\"linecolor\":\"white\",\"ticks\":\"\"}},\"coloraxis\":{\"colorbar\":{\"outlinewidth\":0,\"ticks\":\"\"}},\"colorscale\":{\"sequential\":[[0.0,\"#0d0887\"],[0.1111111111111111,\"#46039f\"],[0.2222222222222222,\"#7201a8\"],[0.3333333333333333,\"#9c179e\"],[0.4444444444444444,\"#bd3786\"],[0.5555555555555556,\"#d8576b\"],[0.6666666666666666,\"#ed7953\"],[0.7777777777777778,\"#fb9f3a\"],[0.8888888888888888,\"#fdca26\"],[1.0,\"#f0f921\"]],\"sequentialminus\":[[0.0,\"#0d0887\"],[0.1111111111111111,\"#46039f\"],[0.2222222222222222,\"#7201a8\"],[0.3333333333333333,\"#9c179e\"],[0.4444444444444444,\"#bd3786\"],[0.5555555555555556,\"#d8576b\"],[0.6666666666666666,\"#ed7953\"],[0.7777777777777778,\"#fb9f3a\"],[0.8888888888888888,\"#fdca26\"],[1.0,\"#f0f921\"]],\"diverging\":[[0,\"#8e0152\"],[0.1,\"#c51b7d\"],[0.2,\"#de77ae\"],[0.3,\"#f1b6da\"],[0.4,\"#fde0ef\"],[0.5,\"#f7f7f7\"],[0.6,\"#e6f5d0\"],[0.7,\"#b8e186\"],[0.8,\"#7fbc41\"],[0.9,\"#4d9221\"],[1,\"#276419\"]]},\"xaxis\":{\"gridcolor\":\"white\",\"linecolor\":\"white\",\"ticks\":\"\",\"title\":{\"standoff\":15},\"zerolinecolor\":\"white\",\"automargin\":true,\"zerolinewidth\":2},\"yaxis\":{\"gridcolor\":\"white\",\"linecolor\":\"white\",\"ticks\":\"\",\"title\":{\"standoff\":15},\"zerolinecolor\":\"white\",\"automargin\":true,\"zerolinewidth\":2},\"scene\":{\"xaxis\":{\"backgroundcolor\":\"#E5ECF6\",\"gridcolor\":\"white\",\"linecolor\":\"white\",\"showbackground\":true,\"ticks\":\"\",\"zerolinecolor\":\"white\",\"gridwidth\":2},\"yaxis\":{\"backgroundcolor\":\"#E5ECF6\",\"gridcolor\":\"white\",\"linecolor\":\"white\",\"showbackground\":true,\"ticks\":\"\",\"zerolinecolor\":\"white\",\"gridwidth\":2},\"zaxis\":{\"backgroundcolor\":\"#E5ECF6\",\"gridcolor\":\"white\",\"linecolor\":\"white\",\"showbackground\":true,\"ticks\":\"\",\"zerolinecolor\":\"white\",\"gridwidth\":2}},\"shapedefaults\":{\"line\":{\"color\":\"#2a3f5f\"}},\"annotationdefaults\":{\"arrowcolor\":\"#2a3f5f\",\"arrowhead\":0,\"arrowwidth\":1},\"geo\":{\"bgcolor\":\"white\",\"landcolor\":\"#E5ECF6\",\"subunitcolor\":\"white\",\"showland\":true,\"showlakes\":true,\"lakecolor\":\"white\"},\"title\":{\"x\":0.05},\"mapbox\":{\"style\":\"light\"}}},\"xaxis\":{\"anchor\":\"y\",\"domain\":[0.0,1.0],\"title\":{\"text\":\"x\"}},\"yaxis\":{\"anchor\":\"x\",\"domain\":[0.0,1.0],\"title\":{\"text\":\"y\"}},\"legend\":{\"tracegroupgap\":0},\"title\":{\"text\":\"Accuracy vs. Parameters\"},\"barmode\":\"relative\"},                        {\"responsive\": true}                    )                };                            </script>        </div>"
      ],
      "text/plain": [
       "Figure({\n",
       "    'data': [{'alignmentgroup': 'True',\n",
       "              'hovertemplate': 'x=%{x}<br>y=%{y}<extra></extra>',\n",
       "              'legendgroup': '',\n",
       "              'marker': {'color': '#636efa', 'pattern': {'shape': ''}},\n",
       "              'name': '',\n",
       "              'offsetgroup': '',\n",
       "              'orientation': 'v',\n",
       "              'showlegend': False,\n",
       "              'textposition': 'auto',\n",
       "              'type': 'bar',\n",
       "              'x': array(['64-0.001', '64-1e-06', '128-1e-05', '256-1e-06', '64-0.0001',\n",
       "                          '128-0.001', '256-0.001', '128-1e-06', '256-1e-05', '512-1e-06'],\n",
       "                         dtype=object),\n",
       "              'xaxis': 'x',\n",
       "              'y': array([41.9, 11.5,  8.7,  9.8,  9.5, 39.7, 43.7,  9.7, 10.8, 11.7]),\n",
       "              'yaxis': 'y'}],\n",
       "    'layout': {'barmode': 'relative',\n",
       "               'legend': {'tracegroupgap': 0},\n",
       "               'template': '...',\n",
       "               'title': {'text': 'Accuracy vs. Parameters'},\n",
       "               'xaxis': {'anchor': 'y', 'domain': [0.0, 1.0], 'title': {'text': 'x'}},\n",
       "               'yaxis': {'anchor': 'x', 'domain': [0.0, 1.0], 'title': {'text': 'y'}}}\n",
       "})"
      ]
     },
     "execution_count": 93,
     "metadata": {},
     "output_type": "execute_result"
    }
   ],
   "source": [
    "px.bar(x=x_values, y=obj_list, title=\"Accuracy vs. Parameters\")"
   ]
  }
 ],
 "metadata": {
  "kernelspec": {
   "display_name": "Python 3",
   "language": "python",
   "name": "python3"
  },
  "language_info": {
   "codemirror_mode": {
    "name": "ipython",
    "version": 3
   },
   "file_extension": ".py",
   "mimetype": "text/x-python",
   "name": "python",
   "nbconvert_exporter": "python",
   "pygments_lexer": "ipython3",
   "version": "3.9.7"
  },
  "orig_nbformat": 4,
  "vscode": {
   "interpreter": {
    "hash": "81794d4967e6c3204c66dcd87b604927b115b27c00565d3d43f05ba2f3a2cb0d"
   }
  }
 },
 "nbformat": 4,
 "nbformat_minor": 2
}
