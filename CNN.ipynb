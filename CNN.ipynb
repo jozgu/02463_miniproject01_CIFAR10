{
 "cells": [
  {
   "cell_type": "code",
   "execution_count": 27,
   "metadata": {},
   "outputs": [],
   "source": [
    "import torch\n",
    "import torchvision\n",
    "import torchvision.transforms as transforms\n",
    "import matplotlib.pyplot as plt\n",
    "import numpy as np\n",
    "import torch.nn as nn\n",
    "import torch.nn.functional as F\n",
    "import torch.optim as optim\n",
    "from sklearn.model_selection import ParameterSampler, RandomizedSearchCV, cross_val_score"
   ]
  },
  {
   "attachments": {},
   "cell_type": "markdown",
   "metadata": {},
   "source": [
    "# Load data and transform"
   ]
  },
  {
   "cell_type": "code",
   "execution_count": 3,
   "metadata": {},
   "outputs": [
    {
     "name": "stdout",
     "output_type": "stream",
     "text": [
      "Downloading https://www.cs.toronto.edu/~kriz/cifar-10-python.tar.gz to ./data\\cifar-10-python.tar.gz\n"
     ]
    },
    {
     "name": "stderr",
     "output_type": "stream",
     "text": [
      "100.0%\n"
     ]
    },
    {
     "name": "stdout",
     "output_type": "stream",
     "text": [
      "Extracting ./data\\cifar-10-python.tar.gz to ./data\n",
      "Files already downloaded and verified\n"
     ]
    }
   ],
   "source": [
    "transform = transforms.Compose(\n",
    "    [transforms.ToTensor(),\n",
    "     transforms.Normalize((0.5, 0.5, 0.5), (0.5, 0.5, 0.5))])\n",
    "\n",
    "batch_size = 32\n",
    "\n",
    "trainset = torchvision.datasets.CIFAR10(root='./data', train=True,\n",
    "                                        download=True, transform=transform)\n",
    "trainloader = torch.utils.data.DataLoader(trainset, batch_size=batch_size,\n",
    "                                          shuffle=True, num_workers=2)\n",
    "\n",
    "testset = torchvision.datasets.CIFAR10(root='./data', train=False,\n",
    "                                       download=True, transform=transform)\n",
    "testloader = torch.utils.data.DataLoader(testset, batch_size=batch_size,\n",
    "                                         shuffle=False, num_workers=2)\n",
    "\n",
    "classes = ('plane', 'car', 'bird', 'cat',\n",
    "           'deer', 'dog', 'frog', 'horse', 'ship', 'truck')"
   ]
  },
  {
   "cell_type": "code",
   "execution_count": 6,
   "metadata": {},
   "outputs": [],
   "source": [
    "def imshow(img):\n",
    "    img = img / 2 + 0.5     # unnormalize\n",
    "    npimg = img.numpy()\n",
    "    plt.imshow(np.transpose(npimg, (1, 2, 0)))\n",
    "    plt.show()\n"
   ]
  },
  {
   "cell_type": "code",
   "execution_count": 7,
   "metadata": {},
   "outputs": [],
   "source": [
    "dataiter = iter(trainloader)\n",
    "images, labels = next(dataiter)\n",
    "\n",
    "# show images\n",
    "# imshow(torchvision.utils.make_grid(images))"
   ]
  },
  {
   "attachments": {},
   "cell_type": "markdown",
   "metadata": {},
   "source": [
    "# Define Convolutional Model"
   ]
  },
  {
   "cell_type": "code",
   "execution_count": 8,
   "metadata": {},
   "outputs": [],
   "source": [
    "import torch.nn as nn\n",
    "import torch.nn.functional as F\n",
    "\n",
    "\n",
    "class Net(nn.Module):\n",
    "    def __init__(self):\n",
    "        super().__init__()\n",
    "        self.conv1 = nn.Conv2d(3, 6, 5)\n",
    "        self.pool = nn.MaxPool2d(2, 2)\n",
    "        self.conv2 = nn.Conv2d(6, 16, 5)\n",
    "        self.fc1 = nn.Linear(16 * 5 * 5, 120)\n",
    "        self.fc2 = nn.Linear(120, 84)\n",
    "        self.fc3 = nn.Linear(84, 10)\n",
    "\n",
    "    def forward(self, x):\n",
    "        x = self.pool(F.relu(self.conv1(x)))\n",
    "        x = self.pool(F.relu(self.conv2(x)))\n",
    "        x = torch.flatten(x, 1) # flatten all dimensions except batch\n",
    "        x = F.relu(self.fc1(x))\n",
    "        x = F.relu(self.fc2(x))\n",
    "        x = self.fc3(x)\n",
    "        return x\n",
    "\n",
    "\n",
    "net = Net()"
   ]
  },
  {
   "cell_type": "code",
   "execution_count": 9,
   "metadata": {},
   "outputs": [],
   "source": [
    "criterion = nn.CrossEntropyLoss()\n",
    "optimizer = optim.SGD(net.parameters(), lr=0.001, momentum=0.9)"
   ]
  },
  {
   "attachments": {},
   "cell_type": "markdown",
   "metadata": {},
   "source": [
    "# Training loop"
   ]
  },
  {
   "cell_type": "code",
   "execution_count": 10,
   "metadata": {},
   "outputs": [
    {
     "name": "stdout",
     "output_type": "stream",
     "text": [
      "[1,     0] loss: 0.008\n",
      "[1,   300] loss: 2.303\n",
      "[1,   600] loss: 2.298\n",
      "[1,   900] loss: 2.279\n",
      "[1,  1200] loss: 2.193\n",
      "[1,  1500] loss: 2.082\n",
      "[2,     0] loss: 0.007\n",
      "[2,   300] loss: 1.956\n",
      "[2,   600] loss: 1.900\n",
      "[2,   900] loss: 1.833\n",
      "[2,  1200] loss: 1.790\n",
      "[2,  1500] loss: 1.711\n",
      "[3,     0] loss: 0.005\n",
      "[3,   300] loss: 1.643\n",
      "[3,   600] loss: 1.616\n",
      "[3,   900] loss: 1.602\n",
      "[3,  1200] loss: 1.555\n",
      "[3,  1500] loss: 1.541\n",
      "[4,     0] loss: 0.005\n",
      "[4,   300] loss: 1.490\n",
      "[4,   600] loss: 1.475\n",
      "[4,   900] loss: 1.470\n",
      "[4,  1200] loss: 1.434\n",
      "[4,  1500] loss: 1.422\n",
      "[5,     0] loss: 0.004\n",
      "[5,   300] loss: 1.410\n",
      "[5,   600] loss: 1.392\n",
      "[5,   900] loss: 1.353\n",
      "[5,  1200] loss: 1.357\n",
      "[5,  1500] loss: 1.344\n",
      "[6,     0] loss: 0.005\n",
      "[6,   300] loss: 1.303\n",
      "[6,   600] loss: 1.307\n",
      "[6,   900] loss: 1.290\n",
      "[6,  1200] loss: 1.310\n",
      "[6,  1500] loss: 1.261\n",
      "[7,     0] loss: 0.003\n",
      "[7,   300] loss: 1.247\n",
      "[7,   600] loss: 1.238\n",
      "[7,   900] loss: 1.239\n",
      "[7,  1200] loss: 1.237\n",
      "[7,  1500] loss: 1.211\n",
      "[8,     0] loss: 0.004\n",
      "[8,   300] loss: 1.179\n",
      "[8,   600] loss: 1.198\n",
      "[8,   900] loss: 1.186\n",
      "[8,  1200] loss: 1.187\n",
      "[8,  1500] loss: 1.160\n",
      "[9,     0] loss: 0.003\n",
      "[9,   300] loss: 1.150\n",
      "[9,   600] loss: 1.141\n",
      "[9,   900] loss: 1.136\n",
      "[9,  1200] loss: 1.123\n",
      "[9,  1500] loss: 1.121\n",
      "[10,     0] loss: 0.004\n",
      "[10,   300] loss: 1.095\n",
      "[10,   600] loss: 1.084\n",
      "[10,   900] loss: 1.105\n",
      "[10,  1200] loss: 1.101\n",
      "[10,  1500] loss: 1.082\n",
      "Finished Training\n"
     ]
    }
   ],
   "source": [
    "def train_net(net, trainloader, criterion, optimizer, num_epochs=10):\n",
    "    for epoch in range(num_epochs):  # loop over the dataset multiple times\n",
    "\n",
    "        running_loss = 0.0\n",
    "        for i, data in enumerate(trainloader, 0):\n",
    "            # get the inputs; data is a list of [inputs, labels]\n",
    "            inputs, labels = data\n",
    "\n",
    "            # zero the parameter gradients\n",
    "            optimizer.zero_grad()\n",
    "\n",
    "            # forward + backward + optimize\n",
    "            outputs = net(inputs)\n",
    "            loss = criterion(outputs, labels)\n",
    "            loss.backward()\n",
    "            optimizer.step()\n",
    "\n",
    "            # print statistics\n",
    "            running_loss += loss.item()\n",
    "            if i % 300 == 0:    # print every 2000 mini-batches\n",
    "                print(f'[{epoch+1}, {i:5d}] loss: {running_loss / 300:.3f}')\n",
    "                running_loss = 0.0\n",
    "\n",
    "    print('Finished Training')\n",
    "\n",
    "train_net(net, trainloader, criterion, optimizer, num_epochs=10)\n"
   ]
  },
  {
   "cell_type": "code",
   "execution_count": null,
   "metadata": {},
   "outputs": [],
   "source": [
    "# Save model\n",
    "PATH = './cifar_net.pth'\n",
    "torch.save(net.state_dict(), PATH)"
   ]
  },
  {
   "attachments": {},
   "cell_type": "markdown",
   "metadata": {},
   "source": [
    "# Test Loop"
   ]
  },
  {
   "cell_type": "code",
   "execution_count": 21,
   "metadata": {},
   "outputs": [
    {
     "name": "stdout",
     "output_type": "stream",
     "text": [
      "Accuracy of the network on the 10000 test images: 58.8 %\n"
     ]
    },
    {
     "data": {
      "text/plain": [
       "58.84"
      ]
     },
     "execution_count": 21,
     "metadata": {},
     "output_type": "execute_result"
    }
   ],
   "source": [
    "def test_net(net, testloader):\n",
    "    correct = 0\n",
    "    total = 0\n",
    "    with torch.no_grad():\n",
    "        for data in testloader:\n",
    "            images, labels = data\n",
    "            outputs = net(images)\n",
    "            _, predicted = torch.max(outputs.data, 1)\n",
    "            total += labels.size(0)\n",
    "            correct += (predicted == labels).sum().item()\n",
    "    accuracy = 100 * correct / total\n",
    "    print(f'Accuracy of the network on the 10000 test images: {accuracy:.1f} %')\n",
    "    return accuracy\n",
    "\n",
    "# correct = 0\n",
    "# total = 0\n",
    "# # since we're not training, we don't need to calculate the gradients for our outputs\n",
    "# with torch.no_grad():\n",
    "#     # for data in trainloader: # Test on the training set\n",
    "#     for data in testloader: # Test on the test set (This is what we want to do)\n",
    "#         images, labels = data\n",
    "#         # calculate outputs by running images through the network\n",
    "#         outputs = net(images)\n",
    "#         # the class with the highest energy is what we choose as prediction\n",
    "#         _, predicted = torch.max(outputs.data, 1)\n",
    "#         total += labels.size(0)\n",
    "#         correct += (predicted == labels).sum().item()\n",
    "\n",
    "# print(f'Accuracy of the network on the 10000 test images: {100 * correct // total} %')\n",
    "\n",
    "test_net(net, testloader)"
   ]
  },
  {
   "attachments": {},
   "cell_type": "markdown",
   "metadata": {},
   "source": [
    "# Define domain of parameters to be optimized"
   ]
  },
  {
   "cell_type": "code",
   "execution_count": 29,
   "metadata": {},
   "outputs": [],
   "source": [
    "## define the domain of the considered parameters\n",
    "n_estimators = tuple(np.arange(1,101,1, dtype=int))\n",
    "# print(n_estimators)\n",
    "max_depth = tuple(np.arange(10,110,10, dtype=int))\n",
    "# max_features = ('log2', 'sqrt', None)\n",
    "max_features = (0, 1)\n",
    "# criterion = ('gini', 'entropy')\n",
    "criterion = (0, 1)\n",
    "\n",
    "\n",
    "# define the dictionary for GPyOpt\n",
    "domain_random_sample = {\n",
    "        \"n_epochs\": range(1, 101), \n",
    "        \"n_layers\": range(2,5),\n",
    "        \"\": range(10, 60, 5),\n",
    "        \"max_features\": ['sqrt', 'log2']\n",
    "        }\n",
    "\n",
    "domain = [{'name': 'n_estimators', 'type': 'discrete', 'domain':n_estimators},\n",
    "          {'name': 'max_depth', 'type': 'discrete', 'domain': max_depth},\n",
    "          {'name': 'max_features', 'type': 'categorical', 'domain': max_features},\n",
    "          {'name': 'criterion', 'type': 'categorical', 'domain': criterion}]"
   ]
  },
  {
   "cell_type": "code",
   "execution_count": 31,
   "metadata": {},
   "outputs": [
    {
     "data": {
      "text/plain": [
       "[{'n_estimators': 76,\n",
       "  'max_features': 'log2',\n",
       "  'max_depth': 25,\n",
       "  'criterion': 'entropy'},\n",
       " {'n_estimators': 80,\n",
       "  'max_features': 'log2',\n",
       "  'max_depth': 45,\n",
       "  'criterion': 'gini'},\n",
       " {'n_estimators': 74,\n",
       "  'max_features': 'log2',\n",
       "  'max_depth': 55,\n",
       "  'criterion': 'entropy'},\n",
       " {'n_estimators': 35,\n",
       "  'max_features': 'log2',\n",
       "  'max_depth': 40,\n",
       "  'criterion': 'gini'},\n",
       " {'n_estimators': 41,\n",
       "  'max_features': 'log2',\n",
       "  'max_depth': 30,\n",
       "  'criterion': 'entropy'}]"
      ]
     },
     "execution_count": 31,
     "metadata": {},
     "output_type": "execute_result"
    }
   ],
   "source": [
    "param_list = list(ParameterSampler(domain_random_sample, n_iter=5, random_state=32))\n",
    "param_list"
   ]
  },
  {
   "cell_type": "code",
   "execution_count": 17,
   "metadata": {},
   "outputs": [
    {
     "name": "stdout",
     "output_type": "stream",
     "text": [
      "[1,     0] loss: 0.008\n",
      "[1,   300] loss: 2.306\n",
      "[1,   600] loss: 2.305\n",
      "[1,   900] loss: 2.304\n",
      "[1,  1200] loss: 2.305\n",
      "[1,  1500] loss: 2.305\n",
      "Finished Training\n",
      "Accuracy of the network on the 10000 test images: 10 %\n"
     ]
    }
   ],
   "source": [
    "\n",
    "\n",
    "def objective_function(x):\n",
    "    net = Net()\n",
    "    train_net(net, trainloader, criterion, optimizer, num_epochs=1)\n",
    "    accuracy = test_net(net, testloader)\n",
    "    return accuracy\n",
    "\n",
    "\n",
    "acc = objective_function(None) # Warm up\n",
    "    "
   ]
  },
  {
   "cell_type": "code",
   "execution_count": 19,
   "metadata": {},
   "outputs": [
    {
     "name": "stdout",
     "output_type": "stream",
     "text": [
      "None\n"
     ]
    }
   ],
   "source": [
    "print(acc)"
   ]
  }
 ],
 "metadata": {
  "kernelspec": {
   "display_name": "Python 3",
   "language": "python",
   "name": "python3"
  },
  "language_info": {
   "codemirror_mode": {
    "name": "ipython",
    "version": 3
   },
   "file_extension": ".py",
   "mimetype": "text/x-python",
   "name": "python",
   "nbconvert_exporter": "python",
   "pygments_lexer": "ipython3",
   "version": "3.9.7"
  },
  "orig_nbformat": 4,
  "vscode": {
   "interpreter": {
    "hash": "81794d4967e6c3204c66dcd87b604927b115b27c00565d3d43f05ba2f3a2cb0d"
   }
  }
 },
 "nbformat": 4,
 "nbformat_minor": 2
}
