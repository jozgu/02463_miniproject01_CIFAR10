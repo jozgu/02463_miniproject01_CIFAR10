{
 "cells": [
  {
   "cell_type": "code",
   "execution_count": 1,
   "metadata": {},
   "outputs": [],
   "source": [
    "import torch\n",
    "import torchvision\n",
    "import torchvision.transforms as transforms\n",
    "import matplotlib.pyplot as plt\n",
    "import numpy as np\n",
    "import torch.nn as nn\n",
    "import torch.nn.functional as F\n",
    "import torch.optim as optim\n",
    "from sklearn.model_selection import ParameterSampler, RandomizedSearchCV, cross_val_score\n",
    "import plotly.express as px\n",
    "import pandas as pd\n",
    "import GPyOpt"
   ]
  },
  {
   "attachments": {},
   "cell_type": "markdown",
   "metadata": {},
   "source": [
    "# Load data and transform"
   ]
  },
  {
   "cell_type": "code",
   "execution_count": 2,
   "metadata": {},
   "outputs": [
    {
     "name": "stdout",
     "output_type": "stream",
     "text": [
      "Files already downloaded and verified\n",
      "Files already downloaded and verified\n"
     ]
    }
   ],
   "source": [
    "transform = transforms.Compose(\n",
    "    [transforms.ToTensor(),\n",
    "     transforms.Normalize((0.5, 0.5, 0.5), (0.5, 0.5, 0.5))])\n",
    "\n",
    "batch_size = 32\n",
    "\n",
    "trainset = torchvision.datasets.CIFAR10(root='./data', train=True,\n",
    "                                        download=True, transform=transform)\n",
    "trainloader = torch.utils.data.DataLoader(trainset, batch_size=batch_size,\n",
    "                                          shuffle=True, num_workers=2)\n",
    "\n",
    "testset = torchvision.datasets.CIFAR10(root='./data', train=False,\n",
    "                                       download=True, transform=transform)\n",
    "testloader = torch.utils.data.DataLoader(testset, batch_size=batch_size,\n",
    "                                         shuffle=False, num_workers=2)\n",
    "\n",
    "\n",
    "# Uncomment to take a subset of the data\n",
    "train_subset = torch.utils.data.Subset(trainset, range(0, len(trainset), 10))\n",
    "test_subset = torch.utils.data.Subset(testset, range(0, len(testset), 10))\n",
    "\n",
    "trainloader = torch.utils.data.DataLoader(train_subset, batch_size=batch_size,\n",
    "                                          shuffle=True, num_workers=2)\n",
    "testloader = torch.utils.data.DataLoader(test_subset, batch_size=batch_size,\n",
    "                                         shuffle=False, num_workers=2)\n",
    "\n",
    "\n",
    "classes = ('plane', 'car', 'bird', 'cat',\n",
    "           'deer', 'dog', 'frog', 'horse', 'ship', 'truck')"
   ]
  },
  {
   "cell_type": "code",
   "execution_count": 3,
   "metadata": {},
   "outputs": [],
   "source": [
    "def imshow(img):\n",
    "    img = img / 2 + 0.5     # unnormalize\n",
    "    npimg = img.numpy()\n",
    "    plt.imshow(np.transpose(npimg, (1, 2, 0)))\n",
    "    plt.show()\n"
   ]
  },
  {
   "cell_type": "code",
   "execution_count": 4,
   "metadata": {},
   "outputs": [],
   "source": [
    "dataiter = iter(trainloader)\n",
    "images, labels = next(dataiter)\n",
    "\n",
    "# show images\n",
    "# imshow(torchvision.utils.make_grid(images))"
   ]
  },
  {
   "attachments": {},
   "cell_type": "markdown",
   "metadata": {},
   "source": [
    "# Define Convolutional Model"
   ]
  },
  {
   "cell_type": "code",
   "execution_count": 5,
   "metadata": {},
   "outputs": [],
   "source": [
    "import torch.nn as nn\n",
    "import torch.nn.functional as F\n",
    "\n",
    "\n",
    "class Net(nn.Module):\n",
    "    def __init__(self, n=120):\n",
    "        super().__init__()\n",
    "        self.conv1 = nn.Conv2d(3, 6, 5) # Goes from 32x32 to 28x28\n",
    "        self.pool = nn.MaxPool2d(2, 2) # halfes the size\n",
    "        self.conv2 = nn.Conv2d(6, 16, 5)\n",
    "        self.fc1 = nn.Linear(16 * 5 * 5, n)\n",
    "        self.fc2 = nn.Linear(n, n//2)\n",
    "        self.fc3 = nn.Linear(n//2, 10)\n",
    "\n",
    "    def forward(self, x):\n",
    "        x = self.pool(F.relu(self.conv1(x))) # 32x32 -> 28x28 -> 14x14\n",
    "        x = self.pool(F.relu(self.conv2(x))) # 14x14 -> 10x10 -> 5x5\n",
    "        x = torch.flatten(x, 1) # flatten all dimensions except batch\n",
    "        x = F.relu(self.fc1(x))\n",
    "        x = F.relu(self.fc2(x))\n",
    "        x = self.fc3(x)\n",
    "        return x\n",
    "\n",
    "net = Net()\n",
    "    \n"
   ]
  },
  {
   "cell_type": "code",
   "execution_count": 6,
   "metadata": {},
   "outputs": [
    {
     "data": {
      "text/plain": [
       "torch.Size([32, 10])"
      ]
     },
     "execution_count": 6,
     "metadata": {},
     "output_type": "execute_result"
    }
   ],
   "source": [
    "out = net(images)\n",
    "out.shape\n"
   ]
  },
  {
   "cell_type": "code",
   "execution_count": 7,
   "metadata": {},
   "outputs": [],
   "source": [
    "criterion = nn.CrossEntropyLoss()\n",
    "optimizer = optim.SGD(net.parameters(), lr=0.001, momentum=0.9)"
   ]
  },
  {
   "attachments": {},
   "cell_type": "markdown",
   "metadata": {},
   "source": [
    "# Training loop"
   ]
  },
  {
   "cell_type": "code",
   "execution_count": 8,
   "metadata": {},
   "outputs": [],
   "source": [
    "def train_net(net, trainloader, criterion, optimizer, num_epochs=10):\n",
    "    for epoch in range(num_epochs):  # loop over the dataset multiple times\n",
    "\n",
    "        running_loss = 0.0\n",
    "        for i, data in enumerate(trainloader, 0):\n",
    "            # get the inputs; data is a list of [inputs, labels]\n",
    "            inputs, labels = data\n",
    "\n",
    "            # zero the parameter gradients\n",
    "            optimizer.zero_grad()\n",
    "\n",
    "            # forward + backward + optimize\n",
    "            outputs = net(inputs)\n",
    "            loss = criterion(outputs, labels)\n",
    "            loss.backward()\n",
    "            optimizer.step()\n",
    "\n",
    "            # print statistics\n",
    "            running_loss += loss.item()\n",
    "            if i % 300 == 0:    # print every 2000 mini-batches\n",
    "                print(f'[{epoch+1}, {i:5d}] loss: {running_loss / 300:.3f}')\n",
    "                running_loss = 0.0\n",
    "\n",
    "    print('Finished Training')\n",
    "\n",
    "# train_net(net, trainloader, criterion, optimizer, num_epochs=1)\n"
   ]
  },
  {
   "cell_type": "code",
   "execution_count": 9,
   "metadata": {},
   "outputs": [],
   "source": [
    "# Save model\n",
    "# PATH = './cifar_net.pth'\n",
    "# torch.save(net.state_dict(), PATH)"
   ]
  },
  {
   "attachments": {},
   "cell_type": "markdown",
   "metadata": {},
   "source": [
    "# Test Loop"
   ]
  },
  {
   "cell_type": "code",
   "execution_count": 10,
   "metadata": {},
   "outputs": [],
   "source": [
    "def test_net(net, testloader):\n",
    "    correct = 0\n",
    "    total = 0\n",
    "    with torch.no_grad():\n",
    "        for data in testloader:\n",
    "            images, labels = data\n",
    "            outputs = net(images)\n",
    "            _, predicted = torch.max(outputs.data, 1)\n",
    "            total += labels.size(0)\n",
    "            correct += (predicted == labels).sum().item()\n",
    "    accuracy = 100 * correct / total\n",
    "    print(f'Accuracy of the network on the 10000 test images: {accuracy:.1f} %')\n",
    "    return accuracy\n",
    "\n",
    "# correct = 0\n",
    "# total = 0\n",
    "# # since we're not training, we don't need to calculate the gradients for our outputs\n",
    "# with torch.no_grad():\n",
    "#     # for data in trainloader: # Test on the training set\n",
    "#     for data in testloader: # Test on the test set (This is what we want to do)\n",
    "#         images, labels = data\n",
    "#         # calculate outputs by running images through the network\n",
    "#         outputs = net(images)\n",
    "#         # the class with the highest energy is what we choose as prediction\n",
    "#         _, predicted = torch.max(outputs.data, 1)\n",
    "#         total += labels.size(0)\n",
    "#         correct += (predicted == labels).sum().item()\n",
    "\n",
    "# print(f'Accuracy of the network on the 10000 test images: {100 * correct // total} %')\n",
    "\n",
    "# test_net(net, testloader)"
   ]
  },
  {
   "attachments": {},
   "cell_type": "markdown",
   "metadata": {},
   "source": [
    "# Define domain of parameters to be optimized"
   ]
  },
  {
   "cell_type": "code",
   "execution_count": 11,
   "metadata": {},
   "outputs": [],
   "source": [
    "# ## define the domain of the considered parameters\n",
    "# n_estimators = tuple(np.arange(1,101,1, dtype=int))\n",
    "# # print(n_estimators)\n",
    "# max_depth = tuple(np.arange(10,110,10, dtype=int))\n",
    "# # max_features = ('log2', 'sqrt', None)\n",
    "# max_features = (0, 1)\n",
    "# # criterion = ('gini', 'entropy')\n",
    "# criterion = (0, 1)\n",
    "\n",
    "\n",
    "# define the dictionary for GPyOpt\n",
    "domain_random_sample = {\n",
    "        # \"n_epochs\": range(1, 11,2), \n",
    "        # \"n_epochs\": range(10, 1,10), \n",
    "        \"n_units\": (64, 128, 256, 512),\n",
    "        \"lr\": (1e-3, 1e-4, 1e-5, 1e-6),\n",
    "        }\n",
    "\n",
    "domain = [{'name': 'n_units', 'type': 'discrete', 'domain':(64, 128, 256, 512)},\n",
    "          {'name': 'lr', 'type': 'discrete', 'domain': (1e-3, 1e-4, 1e-5, 1e-6)},\n",
    "          ]"
   ]
  },
  {
   "cell_type": "code",
   "execution_count": 12,
   "metadata": {},
   "outputs": [
    {
     "data": {
      "text/plain": [
       "[{'n_units': 64, 'lr': 0.001},\n",
       " {'n_units': 64, 'lr': 1e-06},\n",
       " {'n_units': 128, 'lr': 1e-05},\n",
       " {'n_units': 256, 'lr': 1e-06},\n",
       " {'n_units': 64, 'lr': 0.0001},\n",
       " {'n_units': 128, 'lr': 0.001},\n",
       " {'n_units': 256, 'lr': 0.001},\n",
       " {'n_units': 128, 'lr': 1e-06},\n",
       " {'n_units': 256, 'lr': 1e-05},\n",
       " {'n_units': 512, 'lr': 1e-06}]"
      ]
     },
     "execution_count": 12,
     "metadata": {},
     "output_type": "execute_result"
    }
   ],
   "source": [
    "param_list = list(ParameterSampler(domain_random_sample, n_iter=10, random_state=32))\n",
    "param_list\n"
   ]
  },
  {
   "cell_type": "code",
   "execution_count": 19,
   "metadata": {},
   "outputs": [],
   "source": [
    "\n",
    "def objective_function(params:dict):\n",
    "    n_epochs = 30\n",
    "    if isinstance(params, np.ndarray):\n",
    "        params = params[0]\n",
    "        n_units = int(params[0])\n",
    "        lr = params[1]\n",
    "    else:\n",
    "        n_units = params[\"n_units\"]\n",
    "        lr = params[\"lr\"]\n",
    "        n_epochs = params[\"n_epochs\"] if \"n_epochs\" in params else 30\n",
    "        \n",
    "    print(f\"n_units: {n_units}, lr: {lr}, n_epochs: {n_epochs}\")\n",
    "    \n",
    "\n",
    "    net = Net(n_units)\n",
    "    criterion = nn.CrossEntropyLoss()\n",
    "    optimizer = optim.SGD(net.parameters(), lr=lr, momentum=0.9)\n",
    "    train_net(net, trainloader, criterion, optimizer, num_epochs=n_epochs)\n",
    "    accuracy = test_net(net, testloader)\n",
    "    \n",
    "\n",
    "    return -accuracy\n",
    "\n",
    "\n",
    "# acc = objective_function() # Warm up\n",
    "\n"
   ]
  },
  {
   "attachments": {},
   "cell_type": "markdown",
   "metadata": {},
   "source": [
    "# Random Search"
   ]
  },
  {
   "cell_type": "code",
   "execution_count": null,
   "metadata": {},
   "outputs": [],
   "source": [
    "obj_list = []\n",
    "for params in param_list:\n",
    "    accuracy = objective_function(params)\n",
    "    obj_list.append(accuracy)\n",
    "    print(f\"Accuracy with params {params} was {accuracy:.2f}\")\n"
   ]
  },
  {
   "cell_type": "code",
   "execution_count": 17,
   "metadata": {},
   "outputs": [],
   "source": [
    "# load in the list if we have already run the objective function\n",
    "obj_list = pd.read_csv(\"obj_list.csv\")\n",
    "print(\"test\")\n",
    "obj_list = list(obj_list.iloc[:,0].to_numpy())\n",
    "\n",
    "\n",
    "# get the values from the param list and concatenate them into a string\n",
    "x_values = [\"-\".join(list(map(str,list(params.values())))) for params in param_list]\n",
    "\n",
    "# save the obj_list to csv file\n",
    "# obj_pd = pd.DataFrame(obj_list, columns=[\"accuracy\"])\n",
    "# obj_pd.to_csv(\"obj_list.csv\", index=False)"
   ]
  },
  {
   "cell_type": "code",
   "execution_count": null,
   "metadata": {},
   "outputs": [],
   "source": [
    "# bar plot of the random search\n",
    "px.bar(x=x_values, y=obj_list, title=\"Accuracy vs. Parameters\")"
   ]
  },
  {
   "attachments": {},
   "cell_type": "markdown",
   "metadata": {},
   "source": [
    "# Bayesian optimization"
   ]
  },
  {
   "cell_type": "code",
   "execution_count": null,
   "metadata": {},
   "outputs": [],
   "source": []
  },
  {
   "cell_type": "code",
   "execution_count": 14,
   "metadata": {},
   "outputs": [
    {
     "name": "stdout",
     "output_type": "stream",
     "text": [
      "n_units: 64, lr: 0.0001, n_epochs: 30\n",
      "[1,     0] loss: 0.008\n",
      "[2,     0] loss: 0.008\n",
      "[3,     0] loss: 0.008\n",
      "[4,     0] loss: 0.008\n",
      "[5,     0] loss: 0.008\n",
      "[6,     0] loss: 0.008\n",
      "[7,     0] loss: 0.008\n",
      "[8,     0] loss: 0.008\n",
      "[9,     0] loss: 0.008\n",
      "[10,     0] loss: 0.008\n",
      "[11,     0] loss: 0.008\n",
      "[12,     0] loss: 0.008\n",
      "[13,     0] loss: 0.008\n",
      "[14,     0] loss: 0.008\n",
      "[15,     0] loss: 0.008\n",
      "[16,     0] loss: 0.008\n",
      "[17,     0] loss: 0.008\n",
      "[18,     0] loss: 0.008\n",
      "[19,     0] loss: 0.008\n",
      "[20,     0] loss: 0.008\n",
      "[21,     0] loss: 0.008\n",
      "[22,     0] loss: 0.008\n",
      "[23,     0] loss: 0.008\n",
      "[24,     0] loss: 0.008\n",
      "[25,     0] loss: 0.008\n",
      "[26,     0] loss: 0.008\n",
      "[27,     0] loss: 0.008\n",
      "[28,     0] loss: 0.008\n",
      "[29,     0] loss: 0.008\n",
      "[30,     0] loss: 0.008\n",
      "Finished Training\n",
      "Accuracy of the network on the 10000 test images: 11.4 %\n",
      "n_units: 512, lr: 0.0001, n_epochs: 30\n",
      "[1,     0] loss: 0.008\n",
      "[2,     0] loss: 0.008\n",
      "[3,     0] loss: 0.008\n",
      "[4,     0] loss: 0.008\n",
      "[5,     0] loss: 0.008\n",
      "[6,     0] loss: 0.008\n",
      "[7,     0] loss: 0.008\n",
      "[8,     0] loss: 0.008\n",
      "[9,     0] loss: 0.008\n",
      "[10,     0] loss: 0.008\n",
      "[11,     0] loss: 0.008\n",
      "[12,     0] loss: 0.008\n",
      "[13,     0] loss: 0.008\n",
      "[14,     0] loss: 0.008\n",
      "[15,     0] loss: 0.008\n",
      "[16,     0] loss: 0.008\n",
      "[17,     0] loss: 0.008\n",
      "[18,     0] loss: 0.008\n",
      "[19,     0] loss: 0.008\n",
      "[20,     0] loss: 0.008\n",
      "[21,     0] loss: 0.008\n",
      "[22,     0] loss: 0.008\n",
      "[23,     0] loss: 0.008\n",
      "[24,     0] loss: 0.008\n",
      "[25,     0] loss: 0.008\n",
      "[26,     0] loss: 0.008\n",
      "[27,     0] loss: 0.008\n",
      "[28,     0] loss: 0.008\n",
      "[29,     0] loss: 0.008\n",
      "[30,     0] loss: 0.008\n",
      "Finished Training\n",
      "Accuracy of the network on the 10000 test images: 14.7 %\n",
      "n_units: 512, lr: 0.0001, n_epochs: 30\n",
      "[1,     0] loss: 0.008\n",
      "[2,     0] loss: 0.008\n",
      "[3,     0] loss: 0.008\n",
      "[4,     0] loss: 0.008\n",
      "[5,     0] loss: 0.008\n",
      "[6,     0] loss: 0.008\n",
      "[7,     0] loss: 0.008\n",
      "[8,     0] loss: 0.008\n",
      "[9,     0] loss: 0.008\n",
      "[10,     0] loss: 0.008\n",
      "[11,     0] loss: 0.008\n",
      "[12,     0] loss: 0.008\n",
      "[13,     0] loss: 0.008\n",
      "[14,     0] loss: 0.008\n",
      "[15,     0] loss: 0.008\n",
      "[16,     0] loss: 0.008\n",
      "[17,     0] loss: 0.008\n",
      "[18,     0] loss: 0.008\n",
      "[19,     0] loss: 0.008\n",
      "[20,     0] loss: 0.008\n",
      "[21,     0] loss: 0.008\n",
      "[22,     0] loss: 0.008\n",
      "[23,     0] loss: 0.008\n",
      "[24,     0] loss: 0.008\n",
      "[25,     0] loss: 0.008\n",
      "[26,     0] loss: 0.008\n",
      "[27,     0] loss: 0.008\n",
      "[28,     0] loss: 0.008\n",
      "[29,     0] loss: 0.008\n",
      "[30,     0] loss: 0.008\n",
      "Finished Training\n",
      "Accuracy of the network on the 10000 test images: 11.3 %\n",
      "n_units: 512, lr: 0.001, n_epochs: 30\n",
      "[1,     0] loss: 0.008\n",
      "[2,     0] loss: 0.008\n",
      "[3,     0] loss: 0.008\n",
      "[4,     0] loss: 0.008\n",
      "[5,     0] loss: 0.007\n",
      "[6,     0] loss: 0.008\n",
      "[7,     0] loss: 0.007\n",
      "[8,     0] loss: 0.007\n",
      "[9,     0] loss: 0.007\n",
      "[10,     0] loss: 0.007\n",
      "[11,     0] loss: 0.007\n",
      "[12,     0] loss: 0.006\n",
      "[13,     0] loss: 0.006\n",
      "[14,     0] loss: 0.006\n",
      "[15,     0] loss: 0.006\n",
      "[16,     0] loss: 0.005\n",
      "[17,     0] loss: 0.006\n",
      "[18,     0] loss: 0.006\n",
      "[19,     0] loss: 0.005\n",
      "[20,     0] loss: 0.006\n",
      "[21,     0] loss: 0.005\n",
      "[22,     0] loss: 0.005\n",
      "[23,     0] loss: 0.005\n",
      "[24,     0] loss: 0.005\n",
      "[25,     0] loss: 0.006\n",
      "[26,     0] loss: 0.005\n",
      "[27,     0] loss: 0.004\n",
      "[28,     0] loss: 0.005\n",
      "[29,     0] loss: 0.004\n",
      "[30,     0] loss: 0.004\n",
      "Finished Training\n",
      "Accuracy of the network on the 10000 test images: 43.9 %\n",
      "n_units: 256, lr: 1e-06, n_epochs: 30\n",
      "[1,     0] loss: 0.008\n",
      "[2,     0] loss: 0.008\n",
      "[3,     0] loss: 0.008\n",
      "[4,     0] loss: 0.008\n",
      "[5,     0] loss: 0.008\n",
      "[6,     0] loss: 0.008\n",
      "[7,     0] loss: 0.008\n",
      "[8,     0] loss: 0.008\n",
      "[9,     0] loss: 0.008\n",
      "[10,     0] loss: 0.008\n",
      "[11,     0] loss: 0.008\n",
      "[12,     0] loss: 0.008\n",
      "[13,     0] loss: 0.008\n",
      "[14,     0] loss: 0.008\n",
      "[15,     0] loss: 0.008\n",
      "[16,     0] loss: 0.008\n",
      "[17,     0] loss: 0.008\n",
      "[18,     0] loss: 0.008\n",
      "[19,     0] loss: 0.008\n",
      "[20,     0] loss: 0.008\n",
      "[21,     0] loss: 0.008\n",
      "[22,     0] loss: 0.008\n",
      "[23,     0] loss: 0.008\n",
      "[24,     0] loss: 0.008\n",
      "[25,     0] loss: 0.008\n",
      "[26,     0] loss: 0.008\n",
      "[27,     0] loss: 0.008\n",
      "[28,     0] loss: 0.008\n",
      "[29,     0] loss: 0.008\n",
      "[30,     0] loss: 0.008\n",
      "Finished Training\n",
      "Accuracy of the network on the 10000 test images: 10.2 %\n",
      "n_units: 256, lr: 1e-06, n_epochs: 30\n",
      "[1,     0] loss: 0.008\n",
      "[2,     0] loss: 0.008\n",
      "[3,     0] loss: 0.008\n",
      "[4,     0] loss: 0.008\n",
      "[5,     0] loss: 0.008\n",
      "[6,     0] loss: 0.008\n",
      "[7,     0] loss: 0.008\n",
      "[8,     0] loss: 0.008\n",
      "[9,     0] loss: 0.008\n",
      "[10,     0] loss: 0.008\n",
      "[11,     0] loss: 0.008\n",
      "[12,     0] loss: 0.008\n",
      "[13,     0] loss: 0.008\n",
      "[14,     0] loss: 0.008\n",
      "[15,     0] loss: 0.008\n",
      "[16,     0] loss: 0.008\n",
      "[17,     0] loss: 0.008\n",
      "[18,     0] loss: 0.008\n",
      "[19,     0] loss: 0.008\n",
      "[20,     0] loss: 0.008\n",
      "[21,     0] loss: 0.008\n",
      "[22,     0] loss: 0.008\n",
      "[23,     0] loss: 0.008\n",
      "[24,     0] loss: 0.008\n",
      "[25,     0] loss: 0.008\n",
      "[26,     0] loss: 0.008\n",
      "[27,     0] loss: 0.008\n",
      "[28,     0] loss: 0.008\n",
      "[29,     0] loss: 0.008\n",
      "[30,     0] loss: 0.008\n",
      "Finished Training\n",
      "Accuracy of the network on the 10000 test images: 11.5 %\n"
     ]
    }
   ],
   "source": [
    "opt = GPyOpt.methods.BayesianOptimization(f = objective_function,   # function to optimize\n",
    "                                              domain = domain,         # box-constrains of the problem\n",
    "                                              acquisition_type = 'EI' ,      # Select acquisition function MPI, EI, LCB\n",
    "                                             )\n",
    "opt.acquisition.exploration_weight=0.5\n",
    "\n",
    "opt.run_optimization(max_iter = 2)"
   ]
  },
  {
   "cell_type": "code",
   "execution_count": 15,
   "metadata": {},
   "outputs": [
    {
     "name": "stdout",
     "output_type": "stream",
     "text": [
      "Best parameters: [2.56e+02 1.00e-06]\n"
     ]
    }
   ],
   "source": [
    "x_best = opt.X[np.argmin(opt.Y)]\n",
    "print(f\"Best parameters: {x_best} with accuracy {1-opt.Y.min():.2f}\")\n"
   ]
  },
  {
   "cell_type": "code",
   "execution_count": 18,
   "metadata": {},
   "outputs": [
    {
     "data": {
      "text/plain": [
       "array([[11.4],\n",
       "       [14.7],\n",
       "       [11.3],\n",
       "       [43.9],\n",
       "       [10.2],\n",
       "       [11.5]])"
      ]
     },
     "execution_count": 18,
     "metadata": {},
     "output_type": "execute_result"
    }
   ],
   "source": [
    "opt.Y"
   ]
  }
 ],
 "metadata": {
  "kernelspec": {
   "display_name": "Python 3",
   "language": "python",
   "name": "python3"
  },
  "language_info": {
   "codemirror_mode": {
    "name": "ipython",
    "version": 3
   },
   "file_extension": ".py",
   "mimetype": "text/x-python",
   "name": "python",
   "nbconvert_exporter": "python",
   "pygments_lexer": "ipython3",
   "version": "3.9.7"
  },
  "orig_nbformat": 4,
  "vscode": {
   "interpreter": {
    "hash": "81794d4967e6c3204c66dcd87b604927b115b27c00565d3d43f05ba2f3a2cb0d"
   }
  }
 },
 "nbformat": 4,
 "nbformat_minor": 2
}
